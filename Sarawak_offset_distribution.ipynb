{
 "cells": [
  {
   "cell_type": "code",
   "execution_count": 2,
   "metadata": {},
   "outputs": [
    {
     "ename": "ModuleNotFoundError",
     "evalue": "No module named 'geotools'",
     "output_type": "error",
     "traceback": [
      "\u001b[0;31m---------------------------------------------------------------------------\u001b[0m",
      "\u001b[0;31mModuleNotFoundError\u001b[0m                       Traceback (most recent call last)",
      "\u001b[0;32m<ipython-input-2-a853865c7998>\u001b[0m in \u001b[0;36m<module>\u001b[0;34m()\u001b[0m\n\u001b[0;32m----> 1\u001b[0;31m \u001b[0;32mfrom\u001b[0m \u001b[0mGStools\u001b[0m \u001b[0;32mimport\u001b[0m \u001b[0moffset_distribution\u001b[0m\u001b[0;34m,\u001b[0m \u001b[0minput_tools\u001b[0m\u001b[0;34m\u001b[0m\u001b[0;34m\u001b[0m\u001b[0m\n\u001b[0m\u001b[1;32m      2\u001b[0m \u001b[0;32mimport\u001b[0m \u001b[0mnumpy\u001b[0m \u001b[0;32mas\u001b[0m \u001b[0mnp\u001b[0m\u001b[0;34m\u001b[0m\u001b[0;34m\u001b[0m\u001b[0m\n",
      "\u001b[0;32m~/Coding/Geotools/GStools/offset_distribution.py\u001b[0m in \u001b[0;36m<module>\u001b[0;34m()\u001b[0m\n\u001b[1;32m      4\u001b[0m \u001b[0;32mimport\u001b[0m \u001b[0mseaborn\u001b[0m \u001b[0;32mas\u001b[0m \u001b[0msns\u001b[0m\u001b[0;34m\u001b[0m\u001b[0;34m\u001b[0m\u001b[0m\n\u001b[1;32m      5\u001b[0m \u001b[0;32mimport\u001b[0m \u001b[0mnumpy\u001b[0m \u001b[0;32mas\u001b[0m \u001b[0mnp\u001b[0m\u001b[0;34m\u001b[0m\u001b[0;34m\u001b[0m\u001b[0m\n\u001b[0;32m----> 6\u001b[0;31m \u001b[0;32mfrom\u001b[0m \u001b[0mgeotools\u001b[0m\u001b[0;34m.\u001b[0m\u001b[0minput_tools\u001b[0m \u001b[0;32mimport\u001b[0m \u001b[0mmake_df_from_columndata\u001b[0m\u001b[0;34m\u001b[0m\u001b[0;34m\u001b[0m\u001b[0m\n\u001b[0m\u001b[1;32m      7\u001b[0m \u001b[0;34m\u001b[0m\u001b[0m\n\u001b[1;32m      8\u001b[0m \u001b[0;32mclass\u001b[0m \u001b[0mOffsetData\u001b[0m\u001b[0;34m:\u001b[0m\u001b[0;34m\u001b[0m\u001b[0;34m\u001b[0m\u001b[0m\n",
      "\u001b[0;31mModuleNotFoundError\u001b[0m: No module named 'geotools'"
     ]
    }
   ],
   "source": [
    "from GStools import offset_distribution, input_tools\n",
    "import numpy as np"
   ]
  },
  {
   "cell_type": "code",
   "execution_count": null,
   "metadata": {},
   "outputs": [],
   "source": [
    "#import seaborn as sns\n",
    "#from matplotlib import pyplot as plt\n",
    "#import numpy as np\n",
    "#import pandas as pd"
   ]
  },
  {
   "cell_type": "code",
   "execution_count": null,
   "metadata": {},
   "outputs": [],
   "source": [
    "#path = './testfiles/nearoffset_dist/Eq_Arg/'\n",
    "#filenames = {'Standard Triple Source - 12x75': path + '12x75mx6000m_TS.A1X',\n",
    "#            'Wide Tow Source - Equinor - 12x75': path + '12x75mx8000m_Equinor.A1X'}"
   ]
  },
  {
   "cell_type": "code",
   "execution_count": null,
   "metadata": {},
   "outputs": [],
   "source": [
    "path = './testfiles/nearoffset_dist/Sarawak/'\n",
    "filenames = {'12x75m Triple Source - Standard': path + '01_12x75_TS_standard.A1X',\n",
    "            '12x75m Triple Source - Wide 100m': path + '02_12x75_TS_Wide_100.A1X',\n",
    "            '14x75m Triple Source - Wide 100m': path + '03_14x75_TS_Wide_100.A1X',\n",
    "            '14x75m Triple Source - Wide 125m': path + '04_14x75_TS_Wide_125.A1X',\n",
    "            '16x75m Penta Source - Wide 60m': path + '05_16x75_PS_Wide_60.A1X',\n",
    "            '16x75m Hexa Source - Wide 62.5m': path + '06_16x75_HS_Wide_62.A1X'}"
   ]
  },
  {
   "cell_type": "code",
   "execution_count": null,
   "metadata": {
    "scrolled": false
   },
   "outputs": [],
   "source": [
    "my_offset_data = offset_distribution.OffsetData(filenames, minoffset=100, maxoffset=800, incoffset=100)"
   ]
  },
  {
   "cell_type": "code",
   "execution_count": null,
   "metadata": {},
   "outputs": [],
   "source": [
    "#my_offset_data.x_limit(lower=9400, upper=10600)"
   ]
  },
  {
   "cell_type": "code",
   "execution_count": null,
   "metadata": {
    "scrolled": false
   },
   "outputs": [],
   "source": [
    "my_offset_data.plot_attrib(attrib='AzSrc', descriptor='mean', palette=\"coolwarm\")"
   ]
  },
  {
   "cell_type": "code",
   "execution_count": null,
   "metadata": {
    "scrolled": false
   },
   "outputs": [],
   "source": [
    "#my_offset_data.plot_offset_bins(palette='Reds', maxfold=18)"
   ]
  },
  {
   "cell_type": "code",
   "execution_count": null,
   "metadata": {},
   "outputs": [],
   "source": [
    "#my_offset_data.plot_attrib(attrib='Ttime', descriptor='mean', palette=\"coolwarm\")"
   ]
  },
  {
   "cell_type": "code",
   "execution_count": null,
   "metadata": {},
   "outputs": [],
   "source": [
    "#list(my_offset_data.df_attribs_stats.columns)"
   ]
  },
  {
   "cell_type": "code",
   "execution_count": null,
   "metadata": {},
   "outputs": [],
   "source": [
    "#my_offset_data.df['MidPtX'].max()"
   ]
  },
  {
   "cell_type": "code",
   "execution_count": null,
   "metadata": {},
   "outputs": [],
   "source": [
    "#my_offset_data.x_limit(lower=10200, upper=11000)"
   ]
  },
  {
   "cell_type": "code",
   "execution_count": null,
   "metadata": {
    "scrolled": false
   },
   "outputs": [],
   "source": [
    "#my_offset_data.plot_attrib(attrib='AzSrc', descriptor='50%', palette=\"coolwarm\")"
   ]
  },
  {
   "cell_type": "code",
   "execution_count": null,
   "metadata": {},
   "outputs": [],
   "source": [
    "#my_offset_data.plot_swarm()"
   ]
  },
  {
   "cell_type": "code",
   "execution_count": null,
   "metadata": {},
   "outputs": [],
   "source": [
    "#my_offset_data.plot_offset_bins(palette='coolwarm', maxfold=18)"
   ]
  },
  {
   "cell_type": "code",
   "execution_count": null,
   "metadata": {},
   "outputs": [],
   "source": [
    "my_offset_data.plot_empty_bins(range=False, y_max=30)"
   ]
  },
  {
   "cell_type": "code",
   "execution_count": null,
   "metadata": {},
   "outputs": [],
   "source": [
    "my_offset_data.plot_empty_bins(range=True, y_max=240)"
   ]
  },
  {
   "cell_type": "code",
   "execution_count": null,
   "metadata": {},
   "outputs": [],
   "source": [
    "my_offset_data.offset_planes[1]"
   ]
  },
  {
   "cell_type": "code",
   "execution_count": null,
   "metadata": {},
   "outputs": [],
   "source": [
    "my_offset_data.offset_planes[6]"
   ]
  },
  {
   "cell_type": "code",
   "execution_count": null,
   "metadata": {},
   "outputs": [],
   "source": [
    "my_offset_data.configurations"
   ]
  },
  {
   "cell_type": "code",
   "execution_count": null,
   "metadata": {},
   "outputs": [],
   "source": [
    "#my_offset_data.x_limit(lower=10000, upper=10500)"
   ]
  },
  {
   "cell_type": "code",
   "execution_count": null,
   "metadata": {
    "scrolled": false
   },
   "outputs": [],
   "source": [
    "#my_offset_data.plot_stat_for_offset_class(3, 'Standard Triple Source - 12x93.75', 'Ttime', descriptor='min', swarm=True)"
   ]
  },
  {
   "cell_type": "code",
   "execution_count": null,
   "metadata": {},
   "outputs": [],
   "source": [
    "my_offset_data.plot_stat_for_offset_class(6, my_offset_data.configurations[5], 'AzSrc', descriptor='50%', swarm=True, y_lim=(-90, 90))\n"
   ]
  },
  {
   "cell_type": "code",
   "execution_count": null,
   "metadata": {},
   "outputs": [],
   "source": [
    "#my_offset_data.plot_stat_for_offset_class(1, 'Wide Tow Source - 12x93.75', 'Ttime')"
   ]
  },
  {
   "cell_type": "code",
   "execution_count": null,
   "metadata": {
    "scrolled": false
   },
   "outputs": [],
   "source": [
    "#my_offset_data.plot_stat_for_offset_class(1, 'Standard Triple Source - 12x93.75', 'Ttime')"
   ]
  },
  {
   "cell_type": "code",
   "execution_count": null,
   "metadata": {
    "scrolled": false
   },
   "outputs": [],
   "source": [
    "my_offset_data.plot_stat_for_offset_class_comp(6, 'AzSrc', '50%')"
   ]
  },
  {
   "cell_type": "code",
   "execution_count": null,
   "metadata": {
    "scrolled": false
   },
   "outputs": [],
   "source": [
    "my_offset_data.plot_stat_for_offset_class_comp(6, 'AzSrc', '50%', dist=True, hist=True, histbins=(0, 45, 1), linewidth=5)"
   ]
  },
  {
   "cell_type": "code",
   "execution_count": null,
   "metadata": {},
   "outputs": [],
   "source": [
    "my_offset_data.plot_stat_for_offset_class_comp(6, 'AzSrc', '50%', dist=True, hist=True, histbins=(0, 100, 2), linewidth=5)"
   ]
  },
  {
   "cell_type": "code",
   "execution_count": null,
   "metadata": {},
   "outputs": [],
   "source": [
    "#my_offset_data.plot_stat_for_offset_class_comp(3, 'Ttime', '50%', hist=False, histbins=(0, 0.006, 0.0001))"
   ]
  },
  {
   "cell_type": "code",
   "execution_count": null,
   "metadata": {},
   "outputs": [],
   "source": [
    "import seaborn as sns\n",
    "from matplotlib import pyplot as plt\n",
    "import numpy as np\n",
    "import pandas as pd"
   ]
  },
  {
   "cell_type": "code",
   "execution_count": null,
   "metadata": {},
   "outputs": [],
   "source": [
    "footprintpath = path + 'footprint/'"
   ]
  },
  {
   "cell_type": "code",
   "execution_count": null,
   "metadata": {},
   "outputs": [],
   "source": [
    "footprint_test = input_tools.make_df_from_columndata(footprintpath + 'New12x75-TSstandard.A1X')"
   ]
  },
  {
   "cell_type": "code",
   "execution_count": null,
   "metadata": {},
   "outputs": [],
   "source": [
    "footprint_test"
   ]
  },
  {
   "cell_type": "code",
   "execution_count": null,
   "metadata": {},
   "outputs": [],
   "source": [
    "footprintfilenames = {\n",
    "            '12x75m Triple Source - Standard': footprintpath + 'New12x75-TSstandard.A1X',\n",
    "            '14x75m Triple Source - Wide 100m': footprintpath + 'New14x75-TS100m.A1X',\n",
    "            '16x75m Triple Source - Wide 125m': footprintpath + 'New16x75-TS125m.A1X',\n",
    "            '16x75m Penta Source - Wide 60m': footprintpath + 'New16x75-Penta60.A1X',\n",
    "            '12x75m Penta Source - Wide 60m': footprintpath + 'New12x75-Penta60.A1X'}"
   ]
  },
  {
   "cell_type": "code",
   "execution_count": null,
   "metadata": {},
   "outputs": [],
   "source": [
    "footprintfilenames"
   ]
  },
  {
   "cell_type": "code",
   "execution_count": null,
   "metadata": {},
   "outputs": [],
   "source": [
    "footprints = {}\n",
    "for key in footprintfilenames:\n",
    "    print(key)\n",
    "    print(footprintfilenames[key])\n",
    "    footprints[key] = input_tools.make_df_from_columndata(footprintfilenames[key])"
   ]
  },
  {
   "cell_type": "code",
   "execution_count": null,
   "metadata": {},
   "outputs": [],
   "source": [
    "plt.figure(figsize=(24, 12))\n",
    "for key in footprints:\n",
    "    sns.lineplot(x='CDP-Y', y='PickedRelAmplitude', data=footprints[key])\n",
    "plt.show()"
   ]
  },
  {
   "cell_type": "code",
   "execution_count": null,
   "metadata": {},
   "outputs": [],
   "source": [
    "for key in footprints:\n",
    "    footprints[key] = footprints[key].rename(columns={'CDP-X': 'MidPtY', 'CDP-Y': 'MidPtX'})\n",
    "    footprints[key]['MidPtX'] = footprints[key]['MidPtX'] - 5000"
   ]
  },
  {
   "cell_type": "code",
   "execution_count": null,
   "metadata": {
    "scrolled": true
   },
   "outputs": [],
   "source": [
    "plt.figure(figsize=(24, 12))\n",
    "for key in footprints:\n",
    "    sns.lineplot(x='MidPtX', y='PickedRelAmplitude', data=footprints[key], label=key)\n",
    "    plt.legend()\n",
    "plt.show()"
   ]
  },
  {
   "cell_type": "code",
   "execution_count": null,
   "metadata": {},
   "outputs": [],
   "source": [
    "test_config = '14x75m Triple Source - Wide 100m'\n",
    "#test_config = '12x75m Triple Source - Standard'\n",
    "#test_config = '16x75m Penta Source - Wide 60m'"
   ]
  },
  {
   "cell_type": "code",
   "execution_count": null,
   "metadata": {},
   "outputs": [],
   "source": [
    "my_offset_data.offset_planes[5]"
   ]
  },
  {
   "cell_type": "code",
   "execution_count": null,
   "metadata": {},
   "outputs": [],
   "source": [
    "df_test = my_offset_data.df_attribs_stats[my_offset_data.df_attribs_stats['Configuration'] == test_config]"
   ]
  },
  {
   "cell_type": "code",
   "execution_count": null,
   "metadata": {},
   "outputs": [],
   "source": [
    "df_test = df_test[df_test['Attribute'] == 'AzSrc']"
   ]
  },
  {
   "cell_type": "code",
   "execution_count": null,
   "metadata": {},
   "outputs": [],
   "source": [
    "df_test = df_test[df_test['Offsetclass'] == my_offset_data.offset_planes[5]]"
   ]
  },
  {
   "cell_type": "code",
   "execution_count": null,
   "metadata": {},
   "outputs": [],
   "source": [
    "df_test['Diff'] = df_test['50%'].diff().apply(np.abs)"
   ]
  },
  {
   "cell_type": "code",
   "execution_count": null,
   "metadata": {},
   "outputs": [],
   "source": [
    "len(footprints[test_config])"
   ]
  },
  {
   "cell_type": "code",
   "execution_count": null,
   "metadata": {},
   "outputs": [],
   "source": [
    "df_test"
   ]
  },
  {
   "cell_type": "code",
   "execution_count": null,
   "metadata": {},
   "outputs": [],
   "source": [
    "df_test[['MidPtX', '50%']].dtypes"
   ]
  },
  {
   "cell_type": "code",
   "execution_count": null,
   "metadata": {},
   "outputs": [],
   "source": [
    "footprints[test_config].reset_index().dtypes"
   ]
  },
  {
   "cell_type": "code",
   "execution_count": null,
   "metadata": {},
   "outputs": [],
   "source": [
    "df_test_merge = pd.merge(df_test[['MidPtX', 'Diff']].reset_index(), footprints[test_config], on='MidPtX', how='inner')"
   ]
  },
  {
   "cell_type": "code",
   "execution_count": null,
   "metadata": {},
   "outputs": [],
   "source": [
    "plt.figure(figsize=(24, 12))\n",
    "sns.lineplot(x='MidPtX', y='Diff', data=df_test)\n",
    "sns.lineplot(x='MidPtX', y='PickedRelAmplitude', data=footprints[test_config])\n",
    "plt.show()"
   ]
  },
  {
   "cell_type": "code",
   "execution_count": null,
   "metadata": {},
   "outputs": [],
   "source": [
    "df_test_merge"
   ]
  },
  {
   "cell_type": "code",
   "execution_count": null,
   "metadata": {},
   "outputs": [],
   "source": [
    "fig = plt.figure(figsize=(16,12))\n",
    "ax = df_test_merge.plot(x='MidPtX', y='Diff')\n",
    "ax2 = ax.twinx()\n",
    "df_test_merge.plot(x='MidPtX', y='PickedRelAmplitude', ax=ax2, color=\"r\")\n",
    "#ax.figure.legend()\n",
    "plt.show()"
   ]
  },
  {
   "cell_type": "code",
   "execution_count": null,
   "metadata": {},
   "outputs": [],
   "source": [
    "sns.set_style('whitegrid')\n",
    "fig = plt.figure(figsize=(24,12))\n",
    "ax1 = fig.add_subplot(1, 1, 1)\n",
    "ax2 = ax1.twinx()\n",
    "t = np.linspace(0., 10., 100)\n",
    "#ax1.plot(t, t ** 2, 'b-')\n",
    "#ax2.plot(t, 1000 / (t + 1), 'r-')\n",
    "ax1.plot(df_test_merge['MidPtX'], df_test_merge['PickedRelAmplitude'])\n",
    "ax2.plot(df_test_merge['MidPtX'], df_test_merge['Diff'], 'r-')\n",
    "ax1.set_ylabel('Footprint (rel dB)', color='blue')\n",
    "ax2.set_ylabel('Azm Difference (deg)', color='red')\n",
    "ax1.set_xlabel('MidPtX')\n",
    "ax1.set_ylim(-8, 1)\n",
    "ax2.set_ylim(0, 120)\n",
    "plt.title(test_config)\n",
    "plt.show()"
   ]
  },
  {
   "cell_type": "code",
   "execution_count": null,
   "metadata": {},
   "outputs": [],
   "source": [
    "footprint_conv['Configuration'] = 'Conventional Sources'\n",
    "footprint_wide['Configuration'] = 'Wide Sources'"
   ]
  },
  {
   "cell_type": "code",
   "execution_count": null,
   "metadata": {},
   "outputs": [],
   "source": [
    "footprint = footprint_conv.append(footprint_wide).reset_index()"
   ]
  },
  {
   "cell_type": "code",
   "execution_count": null,
   "metadata": {},
   "outputs": [],
   "source": [
    "footprint"
   ]
  },
  {
   "cell_type": "code",
   "execution_count": null,
   "metadata": {},
   "outputs": [],
   "source": [
    "plt.figure(figsize=(24, 12))\n",
    "sns.lineplot(x='CDP-Y', y='PickedRelAmplitude', hue='Configuration', data=footprint)\n",
    "plt.show()"
   ]
  },
  {
   "cell_type": "code",
   "execution_count": null,
   "metadata": {},
   "outputs": [],
   "source": [
    "footprint = footprint.rename(columns={'CDP-X': 'MidPtY', 'CDP-Y': 'MidPtX'})"
   ]
  },
  {
   "cell_type": "code",
   "execution_count": null,
   "metadata": {},
   "outputs": [],
   "source": [
    "footprint"
   ]
  },
  {
   "cell_type": "code",
   "execution_count": null,
   "metadata": {},
   "outputs": [],
   "source": [
    "plt.figure(figsize=(24, 12))\n",
    "sns.lineplot(x='MidPtX', y='PickedAbsAmplitude', hue='Configuration', data=footprint)\n",
    "plt.show()"
   ]
  },
  {
   "cell_type": "code",
   "execution_count": null,
   "metadata": {},
   "outputs": [],
   "source": [
    "footprint['MidPtX'] = footprint['MidPtX'] + 835.9375"
   ]
  },
  {
   "cell_type": "code",
   "execution_count": null,
   "metadata": {},
   "outputs": [],
   "source": [
    "footprint['style'] = 'Style'"
   ]
  },
  {
   "cell_type": "code",
   "execution_count": null,
   "metadata": {},
   "outputs": [],
   "source": [
    "footprint = footprint[footprint['MidPtX'] >= 10000]\n",
    "footprint = footprint[footprint['MidPtX'] <= 11750]"
   ]
  },
  {
   "cell_type": "code",
   "execution_count": null,
   "metadata": {},
   "outputs": [],
   "source": [
    "plt.figure(figsize=(24, 12))\n",
    "plt.xlim=(11000, 11750)\n",
    "sns.lineplot(x='MidPtX', y='PickedRelAmplitude', hue='Configuration', data=footprint)\n",
    "plt.show()"
   ]
  },
  {
   "cell_type": "code",
   "execution_count": null,
   "metadata": {},
   "outputs": [],
   "source": [
    "my_offset_data.plot_stat_for_offset_class_comp(3, 'AzSrc', '50%')"
   ]
  },
  {
   "cell_type": "code",
   "execution_count": null,
   "metadata": {},
   "outputs": [],
   "source": [
    "def stat_for_offset_class_comp_comb(data, footprint, offsetplane, attrib, descriptor):\n",
    "    df_temp_graph = data.df_attribs_stats[(data.df_attribs_stats['Attribute'] == attrib) & (data.df_attribs_stats['Offsetclass'] == data.offset_planes[offsetplane])]\n",
    "    #df_temp_graph = df_temp_graph[df_temp_graph['Configuration'] == config]\n",
    "    #df_temp_graph['Style'] = 'style1'\n",
    "    temp_footprint = footprint.copy(deep=True)\n",
    "    temp_footprint['PickedRelAmplitude'] = temp_footprint['PickedRelAmplitude'] *40\n",
    "    #temp_footprint['Style'] = 'style2'\n",
    "    #joined = df_temp_graph.join(temp_footprint, on='MidPtX', how='outer', suffix='sfdfs')\n",
    "    plt.figure(figsize=(24, 12))\n",
    "    plt.xlim(10000, 11500)\n",
    "    sns.set_style('darkgrid')\n",
    "    sns.lineplot(x='MidPtX', y=descriptor, data=df_temp_graph, hue='Configuration', hue_order=data.configurations)\n",
    "    sns.lineplot(x='MidPtX', y='PickedRelAmplitude', hue='Configuration', data=temp_footprint)\n",
    "    plt.title(f\"Subselection: Offset: {data.offset_planes[offsetplane]} for attribute: {attrib}\")\n",
    "    plt.show()"
   ]
  },
  {
   "cell_type": "code",
   "execution_count": null,
   "metadata": {},
   "outputs": [],
   "source": [
    "stat_for_offset_class_comp_comb(my_offset_data, footprint, 3, 'Ttime', '50%')"
   ]
  },
  {
   "cell_type": "code",
   "execution_count": null,
   "metadata": {},
   "outputs": [],
   "source": [
    "footprint['style']"
   ]
  },
  {
   "cell_type": "code",
   "execution_count": null,
   "metadata": {},
   "outputs": [],
   "source": []
  },
  {
   "cell_type": "code",
   "execution_count": null,
   "metadata": {},
   "outputs": [],
   "source": []
  }
 ],
 "metadata": {
  "kernelspec": {
   "display_name": "Python 3",
   "language": "python",
   "name": "python3"
  },
  "language_info": {
   "codemirror_mode": {
    "name": "ipython",
    "version": 3
   },
   "file_extension": ".py",
   "mimetype": "text/x-python",
   "name": "python",
   "nbconvert_exporter": "python",
   "pygments_lexer": "ipython3",
   "version": "3.6.7"
  }
 },
 "nbformat": 4,
 "nbformat_minor": 2
}
