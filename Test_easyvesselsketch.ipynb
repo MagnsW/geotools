{
 "cells": [
  {
   "cell_type": "code",
   "execution_count": 2,
   "metadata": {},
   "outputs": [],
   "source": [
    "import geotools\n",
    "from geotools import easyvesselsketchup"
   ]
  },
  {
   "cell_type": "code",
   "execution_count": 4,
   "metadata": {},
   "outputs": [
    {
     "name": "stdout",
     "output_type": "stream",
     "text": [
      "Help on module geotools.easyvesselsketchup in geotools:\n",
      "\n",
      "NAME\n",
      "    geotools.easyvesselsketchup\n",
      "\n",
      "CLASSES\n",
      "    builtins.object\n",
      "        VesselSetup\n",
      "    \n",
      "    class VesselSetup(builtins.object)\n",
      "     |  Instantiate you vessel using:\n",
      "     |  my_vessel = easyvesselsketchup.VesselSetup(no of sources, no of streamers, streamer separation)\n",
      "     |  Example:\n",
      "     |  my_vessel = easyvesselsketchup.VesselSetup(4, 10, 75)\n",
      "     |  Maximum number of sources is 6\n",
      "     |  Then plot interactively using the interactive plot method.\n",
      "     |  my_vessel.interactive_plot(gridspacing, source position slider increment, gridshift=True/False)\n",
      "     |  \n",
      "     |  Methods defined here:\n",
      "     |  \n",
      "     |  __init__(self, no_sources, no_streamers, strm_sep)\n",
      "     |      Initialize self.  See help(type(self)) for accurate signature.\n",
      "     |  \n",
      "     |  interactive_plot(self, gridspace, slider_inc, gridshift=True)\n",
      "     |  \n",
      "     |  ----------------------------------------------------------------------\n",
      "     |  Data descriptors defined here:\n",
      "     |  \n",
      "     |  __dict__\n",
      "     |      dictionary for instance variables (if defined)\n",
      "     |  \n",
      "     |  __weakref__\n",
      "     |      list of weak references to the object (if defined)\n",
      "\n",
      "FILE\n",
      "    /Volumes/Macintosh HD 2/Users/magnuswangensteen/Coding/Geotools/geotools/easyvesselsketchup.py\n",
      "\n",
      "\n"
     ]
    }
   ],
   "source": [
    "help(easyvesselsketchup)"
   ]
  },
  {
   "cell_type": "code",
   "execution_count": 5,
   "metadata": {},
   "outputs": [
    {
     "name": "stdout",
     "output_type": "stream",
     "text": [
      "Number of sources above max. Set to 6\n"
     ]
    }
   ],
   "source": [
    "my_vessel = easyvesselsketchup.VesselSetup(8, 8, 75)"
   ]
  },
  {
   "cell_type": "code",
   "execution_count": 6,
   "metadata": {},
   "outputs": [
    {
     "name": "stdout",
     "output_type": "stream",
     "text": [
      "[-262.5 -187.5 -112.5  -37.5   37.5  112.5  187.5  262.5]\n"
     ]
    }
   ],
   "source": [
    "print(my_vessel.recs)"
   ]
  },
  {
   "cell_type": "code",
   "execution_count": 7,
   "metadata": {},
   "outputs": [
    {
     "data": {
      "application/vnd.jupyter.widget-view+json": {
       "model_id": "06b53b47eb2d46b49f0d5aaa2b60b813",
       "version_major": 2,
       "version_minor": 0
      },
      "text/plain": [
       "interactive(children=(FloatSlider(value=0.0, description='source_1', max=262.5, min=-262.5, step=9.375), Float…"
      ]
     },
     "metadata": {},
     "output_type": "display_data"
    }
   ],
   "source": [
    "my_vessel.interactive_plot(18.75, 9.375, False)"
   ]
  },
  {
   "cell_type": "code",
   "execution_count": 8,
   "metadata": {},
   "outputs": [
    {
     "data": {
      "application/vnd.jupyter.widget-view+json": {
       "model_id": "d908f1a46514415c894e13b686d411a9",
       "version_major": 2,
       "version_minor": 0
      },
      "text/plain": [
       "interactive(children=(FloatSlider(value=0.0, description='source_1', max=262.5, min=-262.5, step=9.375), Float…"
      ]
     },
     "metadata": {},
     "output_type": "display_data"
    }
   ],
   "source": [
    "my_vessel.interactive_plot(9.375, 9.375, True)"
   ]
  },
  {
   "cell_type": "code",
   "execution_count": null,
   "metadata": {},
   "outputs": [],
   "source": []
  }
 ],
 "metadata": {
  "kernelspec": {
   "display_name": "Python 3",
   "language": "python",
   "name": "python3"
  },
  "language_info": {
   "codemirror_mode": {
    "name": "ipython",
    "version": 3
   },
   "file_extension": ".py",
   "mimetype": "text/x-python",
   "name": "python",
   "nbconvert_exporter": "python",
   "pygments_lexer": "ipython3",
   "version": "3.6.7"
  }
 },
 "nbformat": 4,
 "nbformat_minor": 2
}
