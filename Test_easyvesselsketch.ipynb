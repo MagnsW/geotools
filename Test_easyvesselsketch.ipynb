{
 "cells": [
  {
   "cell_type": "code",
   "execution_count": 2,
   "metadata": {},
   "outputs": [],
   "source": [
    "import GStools\n",
    "from GStools import easyvesselsketchup"
   ]
  },
  {
   "cell_type": "code",
   "execution_count": 3,
   "metadata": {},
   "outputs": [
    {
     "name": "stdout",
     "output_type": "stream",
     "text": [
      "Help on module GStools.easyvesselsketchup in GStools:\n",
      "\n",
      "NAME\n",
      "    GStools.easyvesselsketchup\n",
      "\n",
      "CLASSES\n",
      "    builtins.object\n",
      "        VesselSetup\n",
      "    \n",
      "    class VesselSetup(builtins.object)\n",
      "     |  Instantiate you vessel using:\n",
      "     |  my_vessel = easyvesselsketchup.VesselSetup(no of sources, no of streamers, streamer separation)\n",
      "     |  Example:\n",
      "     |  my_vessel = easyvesselsketchup.VesselSetup(4, 10, 75)\n",
      "     |  Maximum number of sources is 6\n",
      "     |  Then plot interactively using the interactive plot method.\n",
      "     |  my_vessel.interactive_plot(gridspacing, source position slider increment, gridshift=True/False)\n",
      "     |  \n",
      "     |  Methods defined here:\n",
      "     |  \n",
      "     |  __init__(self, no_sources, no_streamers, strm_sep)\n",
      "     |      Initialize self.  See help(type(self)) for accurate signature.\n",
      "     |  \n",
      "     |  interactive_plot(self, gridspace, slider_inc, gridshift=True, manual=False)\n",
      "     |  \n",
      "     |  ----------------------------------------------------------------------\n",
      "     |  Data descriptors defined here:\n",
      "     |  \n",
      "     |  __dict__\n",
      "     |      dictionary for instance variables (if defined)\n",
      "     |  \n",
      "     |  __weakref__\n",
      "     |      list of weak references to the object (if defined)\n",
      "\n",
      "FILE\n",
      "    /Volumes/Macintosh HD 2/Users/magnuswangensteen/Coding/Geotools/GStools/easyvesselsketchup.py\n",
      "\n",
      "\n"
     ]
    }
   ],
   "source": [
    "help(easyvesselsketchup)"
   ]
  },
  {
   "cell_type": "code",
   "execution_count": 22,
   "metadata": {},
   "outputs": [],
   "source": [
    "my_vessel_quad = easyvesselsketchup.VesselSetup(3, 10, 100)"
   ]
  },
  {
   "cell_type": "code",
   "execution_count": 23,
   "metadata": {},
   "outputs": [
    {
     "name": "stdout",
     "output_type": "stream",
     "text": [
      "[-337.5 -262.5 -187.5 -112.5  -37.5   37.5  112.5  187.5  262.5  337.5]\n"
     ]
    }
   ],
   "source": [
    "print(my_vessel.recs)"
   ]
  },
  {
   "cell_type": "code",
   "execution_count": 24,
   "metadata": {},
   "outputs": [
    {
     "data": {
      "application/vnd.jupyter.widget-view+json": {
       "model_id": "c7d980cab04d46e78dfd5acf1a34ace0",
       "version_major": 2,
       "version_minor": 0
      },
      "text/plain": [
       "interactive(children=(FloatSlider(value=0.0, description='source_1', max=450.0, min=-450.0, step=6.25), FloatS…"
      ]
     },
     "metadata": {},
     "output_type": "display_data"
    }
   ],
   "source": [
    "my_vessel_quad.interactive_plot(9.375, 6.25, gridshift=True, manual=True)"
   ]
  },
  {
   "cell_type": "code",
   "execution_count": 10,
   "metadata": {},
   "outputs": [],
   "source": [
    "my_vessel_dual = easyvesselsketchup.VesselSetup(2, 10, 75)"
   ]
  },
  {
   "cell_type": "code",
   "execution_count": 12,
   "metadata": {},
   "outputs": [
    {
     "data": {
      "application/vnd.jupyter.widget-view+json": {
       "model_id": "f87c6bad52c340049799b2727812f04a",
       "version_major": 2,
       "version_minor": 0
      },
      "text/plain": [
       "interactive(children=(FloatSlider(value=0.0, description='source_1', max=337.5, min=-337.5, step=6.25), FloatS…"
      ]
     },
     "metadata": {},
     "output_type": "display_data"
    }
   ],
   "source": [
    "my_vessel_dual.interactive_plot(9.375, 6.25, gridshift=True, manual=True)"
   ]
  },
  {
   "cell_type": "code",
   "execution_count": null,
   "metadata": {},
   "outputs": [],
   "source": []
  }
 ],
 "metadata": {
  "kernelspec": {
   "display_name": "Python 3",
   "language": "python",
   "name": "python3"
  },
  "language_info": {
   "codemirror_mode": {
    "name": "ipython",
    "version": 3
   },
   "file_extension": ".py",
   "mimetype": "text/x-python",
   "name": "python",
   "nbconvert_exporter": "python",
   "pygments_lexer": "ipython3",
   "version": "3.6.7"
  }
 },
 "nbformat": 4,
 "nbformat_minor": 2
}
