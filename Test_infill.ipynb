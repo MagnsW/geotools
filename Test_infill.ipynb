{
 "cells": [
  {
   "cell_type": "code",
   "execution_count": 1,
   "metadata": {},
   "outputs": [],
   "source": [
    "from GStools import infill_modeling"
   ]
  },
  {
   "cell_type": "code",
   "execution_count": 2,
   "metadata": {},
   "outputs": [
    {
     "name": "stdout",
     "output_type": "stream",
     "text": [
      "Initialization complete!\n"
     ]
    }
   ],
   "source": [
    "my_imod_job = infill_modeling.IModJob()"
   ]
  },
  {
   "cell_type": "code",
   "execution_count": 3,
   "metadata": {},
   "outputs": [
    {
     "data": {
      "text/html": [
       "<div>\n",
       "<style scoped>\n",
       "    .dataframe tbody tr th:only-of-type {\n",
       "        vertical-align: middle;\n",
       "    }\n",
       "\n",
       "    .dataframe tbody tr th {\n",
       "        vertical-align: top;\n",
       "    }\n",
       "\n",
       "    .dataframe thead th {\n",
       "        text-align: right;\n",
       "    }\n",
       "</style>\n",
       "<table border=\"1\" class=\"dataframe\">\n",
       "  <thead>\n",
       "    <tr style=\"text-align: right;\">\n",
       "      <th></th>\n",
       "    </tr>\n",
       "  </thead>\n",
       "  <tbody>\n",
       "  </tbody>\n",
       "</table>\n",
       "</div>"
      ],
      "text/plain": [
       "Empty DataFrame\n",
       "Columns: []\n",
       "Index: []"
      ]
     },
     "execution_count": 3,
     "metadata": {},
     "output_type": "execute_result"
    }
   ],
   "source": [
    "my_imod_job.df_vessel"
   ]
  },
  {
   "cell_type": "code",
   "execution_count": 4,
   "metadata": {},
   "outputs": [],
   "source": [
    "filename = './testfiles/infill/infill/L38_vels.A1X'"
   ]
  },
  {
   "cell_type": "code",
   "execution_count": 5,
   "metadata": {},
   "outputs": [],
   "source": [
    "segy_filename = '/Volumes/Macintosh HD 2/Users/magnuswangensteen/Dropbox/PGS/Coding/Geotools/testfiles/infill/intvel_trace_125.sgy'"
   ]
  },
  {
   "cell_type": "code",
   "execution_count": 6,
   "metadata": {},
   "outputs": [],
   "source": [
    "#my_imod_job.read_col_data(filename)"
   ]
  },
  {
   "cell_type": "code",
   "execution_count": 7,
   "metadata": {},
   "outputs": [
    {
     "name": "stdout",
     "output_type": "stream",
     "text": [
      "Sample interval: 20000\n"
     ]
    }
   ],
   "source": [
    "my_imod_job.read_segy(segy_filename)"
   ]
  },
  {
   "cell_type": "code",
   "execution_count": 8,
   "metadata": {},
   "outputs": [
    {
     "data": {
      "text/html": [
       "<div>\n",
       "<style scoped>\n",
       "    .dataframe tbody tr th:only-of-type {\n",
       "        vertical-align: middle;\n",
       "    }\n",
       "\n",
       "    .dataframe tbody tr th {\n",
       "        vertical-align: top;\n",
       "    }\n",
       "\n",
       "    .dataframe thead th {\n",
       "        text-align: right;\n",
       "    }\n",
       "</style>\n",
       "<table border=\"1\" class=\"dataframe\">\n",
       "  <thead>\n",
       "    <tr style=\"text-align: right;\">\n",
       "      <th></th>\n",
       "      <th>Depth</th>\n",
       "      <th>Vp</th>\n",
       "    </tr>\n",
       "  </thead>\n",
       "  <tbody>\n",
       "    <tr>\n",
       "      <th>0</th>\n",
       "      <td>0</td>\n",
       "      <td>1509.529297</td>\n",
       "    </tr>\n",
       "    <tr>\n",
       "      <th>1</th>\n",
       "      <td>20</td>\n",
       "      <td>1513.089355</td>\n",
       "    </tr>\n",
       "    <tr>\n",
       "      <th>2</th>\n",
       "      <td>40</td>\n",
       "      <td>1521.321533</td>\n",
       "    </tr>\n",
       "    <tr>\n",
       "      <th>3</th>\n",
       "      <td>60</td>\n",
       "      <td>1536.643311</td>\n",
       "    </tr>\n",
       "    <tr>\n",
       "      <th>4</th>\n",
       "      <td>80</td>\n",
       "      <td>1563.044922</td>\n",
       "    </tr>\n",
       "    <tr>\n",
       "      <th>...</th>\n",
       "      <td>...</td>\n",
       "      <td>...</td>\n",
       "    </tr>\n",
       "    <tr>\n",
       "      <th>146</th>\n",
       "      <td>2920</td>\n",
       "      <td>5516.785156</td>\n",
       "    </tr>\n",
       "    <tr>\n",
       "      <th>147</th>\n",
       "      <td>2940</td>\n",
       "      <td>5515.648438</td>\n",
       "    </tr>\n",
       "    <tr>\n",
       "      <th>148</th>\n",
       "      <td>2960</td>\n",
       "      <td>5514.531250</td>\n",
       "    </tr>\n",
       "    <tr>\n",
       "      <th>149</th>\n",
       "      <td>2980</td>\n",
       "      <td>5513.796875</td>\n",
       "    </tr>\n",
       "    <tr>\n",
       "      <th>150</th>\n",
       "      <td>3000</td>\n",
       "      <td>5513.546875</td>\n",
       "    </tr>\n",
       "  </tbody>\n",
       "</table>\n",
       "<p>151 rows × 2 columns</p>\n",
       "</div>"
      ],
      "text/plain": [
       "     Depth           Vp\n",
       "0        0  1509.529297\n",
       "1       20  1513.089355\n",
       "2       40  1521.321533\n",
       "3       60  1536.643311\n",
       "4       80  1563.044922\n",
       "..     ...          ...\n",
       "146   2920  5516.785156\n",
       "147   2940  5515.648438\n",
       "148   2960  5514.531250\n",
       "149   2980  5513.796875\n",
       "150   3000  5513.546875\n",
       "\n",
       "[151 rows x 2 columns]"
      ]
     },
     "execution_count": 8,
     "metadata": {},
     "output_type": "execute_result"
    }
   ],
   "source": [
    "my_imod_job.df_vels"
   ]
  },
  {
   "cell_type": "code",
   "execution_count": 9,
   "metadata": {},
   "outputs": [],
   "source": [
    "#my_imod_job.velconvert_depth_avg_to_depth_int()"
   ]
  },
  {
   "cell_type": "code",
   "execution_count": 10,
   "metadata": {},
   "outputs": [
    {
     "data": {
      "text/plain": [
       "<matplotlib.axes._subplots.AxesSubplot at 0x1a21dc0198>"
      ]
     },
     "execution_count": 10,
     "metadata": {},
     "output_type": "execute_result"
    },
    {
     "data": {
      "image/png": "[encoded data removed]",
      "text/plain": [
       "<Figure size 432x288 with 1 Axes>"
      ]
     },
     "metadata": {},
     "output_type": "display_data"
    }
   ],
   "source": [
    "my_imod_job.df_vels.plot(x='Depth', y='Vp')"
   ]
  },
  {
   "cell_type": "code",
   "execution_count": 18,
   "metadata": {},
   "outputs": [
    {
     "name": "stdout",
     "output_type": "stream",
     "text": [
      "Water velocity set to: 1550\n",
      "Max depth is: 3000\n",
      "The depths defined in the model are: [200, 700, 1200, 1700, 2200, 2700, 3200]\n"
     ]
    }
   ],
   "source": [
    "my_imod_job.make_model(waterdepth=200, max_depth=3000, watervel=1550, Qp=120)"
   ]
  },
  {
   "cell_type": "code",
   "execution_count": 19,
   "metadata": {},
   "outputs": [
    {
     "data": {
      "text/plain": [
       "2700"
      ]
     },
     "execution_count": 19,
     "metadata": {},
     "output_type": "execute_result"
    }
   ],
   "source": [
    "my_imod_job.df_plm_model['Depth'].max()"
   ]
  },
  {
   "cell_type": "code",
   "execution_count": 20,
   "metadata": {},
   "outputs": [
    {
     "data": {
      "text/plain": [
       "3000"
      ]
     },
     "execution_count": 20,
     "metadata": {},
     "output_type": "execute_result"
    }
   ],
   "source": [
    "my_imod_job.max_depth"
   ]
  },
  {
   "cell_type": "code",
   "execution_count": 21,
   "metadata": {},
   "outputs": [
    {
     "data": {
      "image/png": "[encoded data removed]",
      "text/plain": [
       "<Figure size 864x1152 with 1 Axes>"
      ]
     },
     "metadata": {},
     "output_type": "display_data"
    }
   ],
   "source": [
    "my_imod_job.plot_vels()"
   ]
  },
  {
   "cell_type": "code",
   "execution_count": 22,
   "metadata": {},
   "outputs": [
    {
     "name": "stdout",
     "output_type": "stream",
     "text": [
      "Mute angle is: 60.0\n"
     ]
    }
   ],
   "source": [
    "my_imod_job.compute_mute_offset(100)"
   ]
  },
  {
   "cell_type": "code",
   "execution_count": 23,
   "metadata": {},
   "outputs": [
    {
     "data": {
      "text/html": [
       "<div>\n",
       "<style scoped>\n",
       "    .dataframe tbody tr th:only-of-type {\n",
       "        vertical-align: middle;\n",
       "    }\n",
       "\n",
       "    .dataframe tbody tr th {\n",
       "        vertical-align: top;\n",
       "    }\n",
       "\n",
       "    .dataframe thead th {\n",
       "        text-align: right;\n",
       "    }\n",
       "</style>\n",
       "<table border=\"1\" class=\"dataframe\">\n",
       "  <thead>\n",
       "    <tr style=\"text-align: right;\">\n",
       "      <th></th>\n",
       "      <th>Intf</th>\n",
       "      <th>Depth</th>\n",
       "      <th>Thickness</th>\n",
       "      <th>TWT</th>\n",
       "      <th>100% /60.0 deg mute offset</th>\n",
       "    </tr>\n",
       "  </thead>\n",
       "  <tbody>\n",
       "    <tr>\n",
       "      <th>0</th>\n",
       "      <td>1</td>\n",
       "      <td>0</td>\n",
       "      <td>NaN</td>\n",
       "      <td>NaN</td>\n",
       "      <td>NaN</td>\n",
       "    </tr>\n",
       "    <tr>\n",
       "      <th>1</th>\n",
       "      <td>2</td>\n",
       "      <td>200</td>\n",
       "      <td>200.0</td>\n",
       "      <td>0.258065</td>\n",
       "      <td>692.820323</td>\n",
       "    </tr>\n",
       "    <tr>\n",
       "      <th>2</th>\n",
       "      <td>3</td>\n",
       "      <td>700</td>\n",
       "      <td>500.0</td>\n",
       "      <td>0.757565</td>\n",
       "      <td>2093.549615</td>\n",
       "    </tr>\n",
       "    <tr>\n",
       "      <th>3</th>\n",
       "      <td>4</td>\n",
       "      <td>1200</td>\n",
       "      <td>500.0</td>\n",
       "      <td>1.197900</td>\n",
       "      <td>3207.201609</td>\n",
       "    </tr>\n",
       "    <tr>\n",
       "      <th>4</th>\n",
       "      <td>5</td>\n",
       "      <td>1700</td>\n",
       "      <td>500.0</td>\n",
       "      <td>1.455035</td>\n",
       "      <td>2963.414585</td>\n",
       "    </tr>\n",
       "    <tr>\n",
       "      <th>5</th>\n",
       "      <td>6</td>\n",
       "      <td>2200</td>\n",
       "      <td>500.0</td>\n",
       "      <td>1.659284</td>\n",
       "      <td>3611.183053</td>\n",
       "    </tr>\n",
       "    <tr>\n",
       "      <th>6</th>\n",
       "      <td>7</td>\n",
       "      <td>2700</td>\n",
       "      <td>500.0</td>\n",
       "      <td>1.849217</td>\n",
       "      <td>4779.677616</td>\n",
       "    </tr>\n",
       "  </tbody>\n",
       "</table>\n",
       "</div>"
      ],
      "text/plain": [
       "   Intf  Depth  Thickness       TWT  100% /60.0 deg mute offset\n",
       "0     1      0        NaN       NaN                         NaN\n",
       "1     2    200      200.0  0.258065                  692.820323\n",
       "2     3    700      500.0  0.757565                 2093.549615\n",
       "3     4   1200      500.0  1.197900                 3207.201609\n",
       "4     5   1700      500.0  1.455035                 2963.414585\n",
       "5     6   2200      500.0  1.659284                 3611.183053\n",
       "6     7   2700      500.0  1.849217                 4779.677616"
      ]
     },
     "execution_count": 23,
     "metadata": {},
     "output_type": "execute_result"
    }
   ],
   "source": [
    "my_imod_job.df_plm_mutes"
   ]
  },
  {
   "cell_type": "code",
   "execution_count": 24,
   "metadata": {},
   "outputs": [
    {
     "data": {
      "text/plain": [
       "7"
      ]
     },
     "execution_count": 24,
     "metadata": {},
     "output_type": "execute_result"
    }
   ],
   "source": [
    "len(my_imod_job.df_plm_model)"
   ]
  },
  {
   "cell_type": "code",
   "execution_count": 25,
   "metadata": {},
   "outputs": [
    {
     "data": {
      "text/html": [
       "<div>\n",
       "<style scoped>\n",
       "    .dataframe tbody tr th:only-of-type {\n",
       "        vertical-align: middle;\n",
       "    }\n",
       "\n",
       "    .dataframe tbody tr th {\n",
       "        vertical-align: top;\n",
       "    }\n",
       "\n",
       "    .dataframe thead th {\n",
       "        text-align: right;\n",
       "    }\n",
       "</style>\n",
       "<table border=\"1\" class=\"dataframe\">\n",
       "  <thead>\n",
       "    <tr style=\"text-align: right;\">\n",
       "      <th></th>\n",
       "      <th>Intf</th>\n",
       "      <th>Depth</th>\n",
       "      <th>Vp</th>\n",
       "      <th>Vs</th>\n",
       "      <th>Density</th>\n",
       "      <th>Qp</th>\n",
       "      <th>Qs</th>\n",
       "    </tr>\n",
       "  </thead>\n",
       "  <tbody>\n",
       "    <tr>\n",
       "      <th>0</th>\n",
       "      <td>1</td>\n",
       "      <td>0</td>\n",
       "      <td>330.0</td>\n",
       "      <td>0.0</td>\n",
       "      <td>0.01</td>\n",
       "      <td>100000</td>\n",
       "      <td>100000.0</td>\n",
       "    </tr>\n",
       "    <tr>\n",
       "      <th>1</th>\n",
       "      <td>2</td>\n",
       "      <td>200</td>\n",
       "      <td>1550.0</td>\n",
       "      <td>0.0</td>\n",
       "      <td>1.00</td>\n",
       "      <td>10000</td>\n",
       "      <td>10000.0</td>\n",
       "    </tr>\n",
       "    <tr>\n",
       "      <th>2</th>\n",
       "      <td>3</td>\n",
       "      <td>700</td>\n",
       "      <td>2002.0</td>\n",
       "      <td>1155.9</td>\n",
       "      <td>2.07</td>\n",
       "      <td>120</td>\n",
       "      <td>90.0</td>\n",
       "    </tr>\n",
       "    <tr>\n",
       "      <th>3</th>\n",
       "      <td>4</td>\n",
       "      <td>1200</td>\n",
       "      <td>2271.0</td>\n",
       "      <td>1311.2</td>\n",
       "      <td>2.14</td>\n",
       "      <td>120</td>\n",
       "      <td>90.0</td>\n",
       "    </tr>\n",
       "    <tr>\n",
       "      <th>4</th>\n",
       "      <td>5</td>\n",
       "      <td>1700</td>\n",
       "      <td>3889.0</td>\n",
       "      <td>2245.3</td>\n",
       "      <td>2.44</td>\n",
       "      <td>120</td>\n",
       "      <td>90.0</td>\n",
       "    </tr>\n",
       "    <tr>\n",
       "      <th>5</th>\n",
       "      <td>6</td>\n",
       "      <td>2200</td>\n",
       "      <td>4896.0</td>\n",
       "      <td>2826.7</td>\n",
       "      <td>2.59</td>\n",
       "      <td>120</td>\n",
       "      <td>90.0</td>\n",
       "    </tr>\n",
       "    <tr>\n",
       "      <th>6</th>\n",
       "      <td>7</td>\n",
       "      <td>2700</td>\n",
       "      <td>5265.0</td>\n",
       "      <td>3039.7</td>\n",
       "      <td>2.64</td>\n",
       "      <td>120</td>\n",
       "      <td>90.0</td>\n",
       "    </tr>\n",
       "  </tbody>\n",
       "</table>\n",
       "</div>"
      ],
      "text/plain": [
       "   Intf  Depth      Vp      Vs  Density      Qp        Qs\n",
       "0     1      0   330.0     0.0     0.01  100000  100000.0\n",
       "1     2    200  1550.0     0.0     1.00   10000   10000.0\n",
       "2     3    700  2002.0  1155.9     2.07     120      90.0\n",
       "3     4   1200  2271.0  1311.2     2.14     120      90.0\n",
       "4     5   1700  3889.0  2245.3     2.44     120      90.0\n",
       "5     6   2200  4896.0  2826.7     2.59     120      90.0\n",
       "6     7   2700  5265.0  3039.7     2.64     120      90.0"
      ]
     },
     "execution_count": 25,
     "metadata": {},
     "output_type": "execute_result"
    }
   ],
   "source": [
    "my_imod_job.df_plm_model"
   ]
  },
  {
   "cell_type": "code",
   "execution_count": 30,
   "metadata": {},
   "outputs": [
    {
     "name": "stdout",
     "output_type": "stream",
     "text": [
      "{'Group1': (100.0, 1100.0), 'Group2': (1100.0, 2100.0), 'Group3': (2100.0, 3100.0), 'Group4': (3100.0, 4100.0)}\n"
     ]
    }
   ],
   "source": [
    "my_imod_job.makeoffsetclass(100, 4100, 4)"
   ]
  },
  {
   "cell_type": "code",
   "execution_count": 31,
   "metadata": {},
   "outputs": [
    {
     "name": "stdout",
     "output_type": "stream",
     "text": [
      "{'Group1': (100.0, 1100.0), 'Group2': (1100.0, 2100.0), 'Group3': (2100.0, 3100.0), 'Group4': (3100.0, 4100.0)}\n"
     ]
    }
   ],
   "source": [
    "print(my_imod_job.offsetgroups)"
   ]
  },
  {
   "cell_type": "code",
   "execution_count": 32,
   "metadata": {},
   "outputs": [
    {
     "name": "stdout",
     "output_type": "stream",
     "text": [
      "Offset column name: 100% /60.0 deg mute offset\n",
      "Assigning target to Group: Group1\n",
      "100.0 1100.0\n",
      "Required Offset: 900.0\n",
      "Target identified: 3\n",
      "Assigning target to Group: Group2\n",
      "1100.0 2100.0\n",
      "Required Offset: 1900.0\n",
      "Target identified: 3\n",
      "Assigning target to Group: Group3\n",
      "2100.0 3100.0\n",
      "Required Offset: 2900.0\n",
      "Target identified: 4\n",
      "Assigning target to Group: Group4\n",
      "3100.0 4100.0\n",
      "Required Offset: 3900.0\n",
      "Target identified: 7\n",
      "{'Group1': 3, 'Group2': 3, 'Group3': 4, 'Group4': 7}\n"
     ]
    }
   ],
   "source": [
    "my_imod_job.set_targets(80)"
   ]
  },
  {
   "cell_type": "code",
   "execution_count": 33,
   "metadata": {},
   "outputs": [
    {
     "data": {
      "text/plain": [
       "{'Group1': 3, 'Group2': 3, 'Group3': 4, 'Group4': 7}"
      ]
     },
     "execution_count": 33,
     "metadata": {},
     "output_type": "execute_result"
    }
   ],
   "source": [
    "my_imod_job.targets"
   ]
  },
  {
   "cell_type": "code",
   "execution_count": 34,
   "metadata": {},
   "outputs": [
    {
     "data": {
      "text/plain": [
       "7"
      ]
     },
     "execution_count": 34,
     "metadata": {},
     "output_type": "execute_result"
    }
   ],
   "source": [
    "list(my_imod_job.targets.values())[-1]"
   ]
  },
  {
   "cell_type": "code",
   "execution_count": null,
   "metadata": {},
   "outputs": [],
   "source": [
    "my_imod_job.make_vessel(name='TestVessel', no_sources=3, no_strm=12, subline_sep=18.75, spi=12.5, no_chan=640, first_rec_x=250, source_name='3280T__060_2000_080')"
   ]
  },
  {
   "cell_type": "code",
   "execution_count": null,
   "metadata": {},
   "outputs": [],
   "source": [
    "my_imod_job.vessel"
   ]
  },
  {
   "cell_type": "code",
   "execution_count": null,
   "metadata": {},
   "outputs": [],
   "source": [
    "my_imod_job.make_specs()"
   ]
  },
  {
   "cell_type": "code",
   "execution_count": null,
   "metadata": {},
   "outputs": [],
   "source": [
    "my_imod_job.specs"
   ]
  },
  {
   "cell_type": "code",
   "execution_count": null,
   "metadata": {},
   "outputs": [],
   "source": [
    "my_imod_job.reflection_times"
   ]
  },
  {
   "cell_type": "code",
   "execution_count": null,
   "metadata": {},
   "outputs": [],
   "source": [
    "filename = '/Volumes/Macintosh HD 2/Users/magnuswangensteen/Dropbox/PGS/Coding/Geotools/testfiles/infill/Infill_output_test3.Top Page.Workspace.J1X'\n",
    "my_imod_job.generate_job('2020_04_Auto_IMod', filename)"
   ]
  },
  {
   "cell_type": "code",
   "execution_count": null,
   "metadata": {},
   "outputs": [],
   "source": [
    "#import segyio"
   ]
  },
  {
   "cell_type": "code",
   "execution_count": null,
   "metadata": {},
   "outputs": [],
   "source": [
    "#help(segyio)"
   ]
  },
  {
   "cell_type": "code",
   "execution_count": null,
   "metadata": {},
   "outputs": [],
   "source": [
    "segy_filename = '/Volumes/Macintosh HD 2/Users/magnuswangensteen/Dropbox/PGS/Coding/Geotools/testfiles/infill/intvel_trace_125.sgy'"
   ]
  },
  {
   "cell_type": "code",
   "execution_count": null,
   "metadata": {},
   "outputs": [],
   "source": [
    "#with segyio.open(segy_filename) as f:\n",
    "#    for trace in f.trace:\n",
    "#        print(trace)\n",
    "#    for header in f.header:\n",
    "#        print(header.items())\n",
    "#        #for key in header:\n",
    "#        #    print(key, header[key])\n",
    "#    for text in f.text:\n",
    "#        print(text)"
   ]
  },
  {
   "cell_type": "code",
   "execution_count": null,
   "metadata": {},
   "outputs": [],
   "source": [
    "#with segyio.open(segy_filename) as f:\n",
    "#    for header in f.header:\n",
    "#        for key in header:\n",
    "#            print(key, header[key])"
   ]
  },
  {
   "cell_type": "code",
   "execution_count": null,
   "metadata": {},
   "outputs": [],
   "source": [
    "# headerword = 'TRACE_SAMPLE_INTERVAL'\n",
    "# #headerword = 'GapSize'\n",
    "# with segyio.open(segy_filename) as f:\n",
    "#     for header in f.header:\n",
    "#         for key in header:\n",
    "#             #print(str(key))\n",
    "#             if str(key) == headerword:\n",
    "#                 print(key, header[key])\n",
    "#                 samp_int = header[key]\n",
    "#     for trace in f.trace:\n",
    "#         print(trace)"
   ]
  },
  {
   "cell_type": "code",
   "execution_count": null,
   "metadata": {},
   "outputs": [],
   "source": [
    "# import pandas as pd\n",
    "# import numpy as np"
   ]
  },
  {
   "cell_type": "code",
   "execution_count": null,
   "metadata": {},
   "outputs": [],
   "source": [
    "# trace = []"
   ]
  },
  {
   "cell_type": "code",
   "execution_count": null,
   "metadata": {},
   "outputs": [],
   "source": [
    "# with segyio.open(segy_filename) as f:\n",
    "#     for trace in f.trace:\n",
    "#         pass"
   ]
  },
  {
   "cell_type": "code",
   "execution_count": null,
   "metadata": {},
   "outputs": [],
   "source": [
    "# print(samp_int)"
   ]
  },
  {
   "cell_type": "code",
   "execution_count": null,
   "metadata": {},
   "outputs": [],
   "source": [
    "# len(trace)"
   ]
  },
  {
   "cell_type": "code",
   "execution_count": null,
   "metadata": {},
   "outputs": [],
   "source": [
    "# dt = np.arange(len(trace)) * int(samp_int/1000)"
   ]
  },
  {
   "cell_type": "code",
   "execution_count": null,
   "metadata": {},
   "outputs": [],
   "source": [
    "# len(dt)"
   ]
  },
  {
   "cell_type": "code",
   "execution_count": null,
   "metadata": {},
   "outputs": [],
   "source": [
    "# df_segy = pd.DataFrame(zip(dt, trace), columns=['dt', 'vp'])"
   ]
  },
  {
   "cell_type": "code",
   "execution_count": null,
   "metadata": {},
   "outputs": [],
   "source": [
    "# df_segy.plot(x='dt', y='vp')"
   ]
  },
  {
   "cell_type": "code",
   "execution_count": null,
   "metadata": {},
   "outputs": [],
   "source": [
    "from GStools import input_tools"
   ]
  },
  {
   "cell_type": "code",
   "execution_count": null,
   "metadata": {},
   "outputs": [],
   "source": [
    "df_segy_test = input_tools.make_df_from_segy(segy_filename)"
   ]
  },
  {
   "cell_type": "code",
   "execution_count": null,
   "metadata": {},
   "outputs": [],
   "source": [
    "help(input_tools)"
   ]
  },
  {
   "cell_type": "code",
   "execution_count": null,
   "metadata": {},
   "outputs": [],
   "source": [
    "df_segy_test"
   ]
  },
  {
   "cell_type": "code",
   "execution_count": null,
   "metadata": {},
   "outputs": [],
   "source": []
  }
 ],
 "metadata": {
  "kernelspec": {
   "display_name": "Python 3",
   "language": "python",
   "name": "python3"
  },
  "language_info": {
   "codemirror_mode": {
    "name": "ipython",
    "version": 3
   },
   "file_extension": ".py",
   "mimetype": "text/x-python",
   "name": "python",
   "nbconvert_exporter": "python",
   "pygments_lexer": "ipython3",
   "version": "3.6.7"
  }
 },
 "nbformat": 4,
 "nbformat_minor": 2
}
