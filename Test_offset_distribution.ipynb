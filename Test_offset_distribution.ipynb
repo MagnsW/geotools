{
 "cells": [
  {
   "cell_type": "code",
   "execution_count": 1,
   "metadata": {},
   "outputs": [],
   "source": [
    "import pandas as pd\n",
    "from matplotlib import pyplot as plt\n",
    "import matplotlib.cm as cm\n",
    "import seaborn as sns\n",
    "import numpy as np"
   ]
  },
  {
   "cell_type": "code",
   "execution_count": 2,
   "metadata": {},
   "outputs": [],
   "source": [
    "path = './testfiles/nearoffset_dist/'\n",
    "filename_dual_wide_ontop = path + '04_Dual_wide_on_top.txt'\n",
    "filename_triple_wide_infront = path + '04_Triple_wide.txt'\n",
    "filename_triple_wide_infront_U = path + '04_Triple_wide_U.txt'"
   ]
  },
  {
   "cell_type": "code",
   "execution_count": 3,
   "metadata": {},
   "outputs": [
    {
     "ename": "FileNotFoundError",
     "evalue": "[Errno 2] No such file or directory: './testfiles/nearoffset_dist/04_Dual_wide_on_top.txt'",
     "output_type": "error",
     "traceback": [
      "\u001b[0;31m---------------------------------------------------------------------------\u001b[0m",
      "\u001b[0;31mFileNotFoundError\u001b[0m                         Traceback (most recent call last)",
      "\u001b[0;32m<ipython-input-3-f81f558f87a8>\u001b[0m in \u001b[0;36m<module>\u001b[0;34m()\u001b[0m\n\u001b[0;32m----> 1\u001b[0;31m \u001b[0mf\u001b[0m \u001b[0;34m=\u001b[0m \u001b[0mopen\u001b[0m\u001b[0;34m(\u001b[0m\u001b[0mfilename_dual_wide_ontop\u001b[0m\u001b[0;34m)\u001b[0m\u001b[0;34m\u001b[0m\u001b[0;34m\u001b[0m\u001b[0m\n\u001b[0m\u001b[1;32m      2\u001b[0m \u001b[0mlines\u001b[0m \u001b[0;34m=\u001b[0m \u001b[0mf\u001b[0m\u001b[0;34m.\u001b[0m\u001b[0mread\u001b[0m\u001b[0;34m(\u001b[0m\u001b[0;34m)\u001b[0m\u001b[0;34m.\u001b[0m\u001b[0msplitlines\u001b[0m\u001b[0;34m(\u001b[0m\u001b[0;34m)\u001b[0m\u001b[0;34m\u001b[0m\u001b[0;34m\u001b[0m\u001b[0m\n\u001b[1;32m      3\u001b[0m \u001b[0mf\u001b[0m\u001b[0;34m.\u001b[0m\u001b[0mclose\u001b[0m\u001b[0;34m(\u001b[0m\u001b[0;34m)\u001b[0m\u001b[0;34m\u001b[0m\u001b[0;34m\u001b[0m\u001b[0m\n\u001b[1;32m      4\u001b[0m \u001b[0;32mfor\u001b[0m \u001b[0mi\u001b[0m\u001b[0;34m,\u001b[0m \u001b[0mline\u001b[0m \u001b[0;32min\u001b[0m \u001b[0menumerate\u001b[0m\u001b[0;34m(\u001b[0m\u001b[0mlines\u001b[0m\u001b[0;34m)\u001b[0m\u001b[0;34m:\u001b[0m\u001b[0;34m\u001b[0m\u001b[0;34m\u001b[0m\u001b[0m\n\u001b[1;32m      5\u001b[0m     \u001b[0;32mif\u001b[0m \u001b[0mi\u001b[0m \u001b[0;34m<\u001b[0m \u001b[0;36m10\u001b[0m\u001b[0;34m:\u001b[0m\u001b[0;34m\u001b[0m\u001b[0;34m\u001b[0m\u001b[0m\n",
      "\u001b[0;31mFileNotFoundError\u001b[0m: [Errno 2] No such file or directory: './testfiles/nearoffset_dist/04_Dual_wide_on_top.txt'"
     ]
    }
   ],
   "source": [
    "f = open(filename_dual_wide_ontop)\n",
    "lines = f.read().splitlines()\n",
    "f.close()\n",
    "for i, line in enumerate(lines):\n",
    "    if i < 10:\n",
    "        print(i, line)"
   ]
  },
  {
   "cell_type": "code",
   "execution_count": null,
   "metadata": {},
   "outputs": [],
   "source": [
    "df_dual_wide_ontop_raw = pd.DataFrame()\n",
    "df_triple_wide_infront_raw = pd.DataFrame()\n",
    "df_triple_wide_infront_U_raw = pd.DataFrame()"
   ]
  },
  {
   "cell_type": "code",
   "execution_count": null,
   "metadata": {},
   "outputs": [],
   "source": [
    "column_names = ['ShotNo', 'StrNo', 'RecNo', 'Offset', 'MidPtX', 'MidPtY', 'DipSrc', 'DipRec', 'AzSrc']"
   ]
  },
  {
   "cell_type": "code",
   "execution_count": null,
   "metadata": {},
   "outputs": [],
   "source": [
    "rowstoskip = 2"
   ]
  },
  {
   "cell_type": "code",
   "execution_count": null,
   "metadata": {},
   "outputs": [],
   "source": [
    "df_dual_wide_ontop_raw = pd.read_csv(filename_dual_wide_ontop, names=column_names, skiprows=rowstoskip, delim_whitespace=True)\n",
    "df_triple_wide_infront_raw = pd.read_csv(filename_triple_wide_infront, names=column_names, skiprows=rowstoskip, delim_whitespace=True)\n",
    "df_triple_wide_infront_U_raw = pd.read_csv(filename_triple_wide_infront_U, names=column_names, skiprows=rowstoskip, delim_whitespace=True)"
   ]
  },
  {
   "cell_type": "code",
   "execution_count": null,
   "metadata": {},
   "outputs": [],
   "source": [
    "df_dual_wide_ontop_raw.columns"
   ]
  },
  {
   "cell_type": "code",
   "execution_count": null,
   "metadata": {},
   "outputs": [],
   "source": [
    "df_triple_wide_infront_raw.dtypes"
   ]
  },
  {
   "cell_type": "code",
   "execution_count": null,
   "metadata": {},
   "outputs": [],
   "source": [
    "df_dual_wide_ontop_raw['OffsetY'] = df_dual_wide_ontop_raw.apply(lambda row: row.Offset*np.cos(np.deg2rad(row.AzSrc)), axis=1)\n",
    "df_dual_wide_ontop_raw['OffsetX'] = df_dual_wide_ontop_raw.apply(lambda row: row.Offset*np.sin(np.deg2rad(row.AzSrc)), axis=1)"
   ]
  },
  {
   "cell_type": "code",
   "execution_count": null,
   "metadata": {},
   "outputs": [],
   "source": [
    "df_triple_wide_infront_raw['OffsetY'] = df_triple_wide_infront_raw.apply(lambda row: row.Offset*np.cos(np.deg2rad(row.AzSrc)), axis=1)\n",
    "df_triple_wide_infront_raw['OffsetX'] = df_triple_wide_infront_raw.apply(lambda row: row.Offset*np.sin(np.deg2rad(row.AzSrc)), axis=1)"
   ]
  },
  {
   "cell_type": "code",
   "execution_count": null,
   "metadata": {},
   "outputs": [],
   "source": [
    "df_triple_wide_infront_U_raw['OffsetY'] = df_triple_wide_infront_U_raw.apply(lambda row: row.Offset*np.cos(np.deg2rad(row.AzSrc)), axis=1)\n",
    "df_triple_wide_infront_U_raw['OffsetX'] = df_triple_wide_infront_U_raw.apply(lambda row: row.Offset*np.sin(np.deg2rad(row.AzSrc)), axis=1)"
   ]
  },
  {
   "cell_type": "code",
   "execution_count": null,
   "metadata": {},
   "outputs": [],
   "source": [
    "df_dual_wide_ontop_raw['Configuration'] = 'Dual Wide on Top'\n",
    "df_triple_wide_infront_raw['Configuration'] = 'Triple Wide in Front'\n",
    "df_triple_wide_infront_U_raw['Configuration'] = 'Triple Wide in Front with U-front'"
   ]
  },
  {
   "cell_type": "code",
   "execution_count": null,
   "metadata": {},
   "outputs": [],
   "source": [
    "df_combined = pd.concat([df_dual_wide_ontop_raw, df_triple_wide_infront_U_raw, df_triple_wide_infront_raw], ignore_index=True)"
   ]
  },
  {
   "cell_type": "code",
   "execution_count": null,
   "metadata": {},
   "outputs": [],
   "source": [
    "df_combined"
   ]
  },
  {
   "cell_type": "code",
   "execution_count": null,
   "metadata": {},
   "outputs": [],
   "source": [
    "sns.set_style(\"whitegrid\")\n",
    "#sns.set_palette(\"pastel\")\n",
    "#sns.set_context(\"paper\")\n",
    "sns.set_context(\"talk\")\n",
    "sns.set_palette(\"Paired\")\n",
    "sns.set_palette(\"Set1\")"
   ]
  },
  {
   "cell_type": "code",
   "execution_count": null,
   "metadata": {},
   "outputs": [],
   "source": [
    "#plt.set_palette(\"coolwarm\")\n",
    "plt.figure(figsize=(16, 12))\n",
    "plt.scatter(df_dual_wide_ontop_raw.MidPtX, df_dual_wide_ontop_raw.Offset, c=df_dual_wide_ontop_raw.AzSrc)\n",
    "plt.ylim(0, 500)"
   ]
  },
  {
   "cell_type": "code",
   "execution_count": null,
   "metadata": {},
   "outputs": [],
   "source": [
    "#plt.get_cmap(name='hsv', lut=None)\n",
    "plt.figure(figsize=(16, 12))\n",
    "plt.scatter(df_dual_wide_ontop_raw.MidPtX, df_dual_wide_ontop_raw.OffsetY, c=cm.hsv(df_dual_wide_ontop_raw.AzSrc/180))\n",
    "plt.ylim(-500, 500)"
   ]
  },
  {
   "cell_type": "code",
   "execution_count": null,
   "metadata": {},
   "outputs": [],
   "source": [
    "offset_min_0 = 0\n",
    "offset_min_1 = 20\n",
    "offset_min_2 = 50\n",
    "offset_min_3 = 100\n",
    "offset_min_4 = 200"
   ]
  },
  {
   "cell_type": "code",
   "execution_count": null,
   "metadata": {},
   "outputs": [],
   "source": [
    "plt.figure(figsize=(16, 12))\n",
    "sns.regplot(x=df_triple_wide_infront_raw.MidPtX, y=df_triple_wide_infront_raw.Offset, fit_reg=False, label='All')\n",
    "sns.regplot(x=df_triple_wide_infront_raw[(df_triple_wide_infront_raw['Offset'] > offset_min_1)]['MidPtX'], y=df_triple_wide_infront_raw[(df_triple_wide_infront_raw['Offset'] > offset_min_1)]['Offset'], fit_reg=False, label='min offset: '+str(offset_min_1))\n",
    "sns.regplot(x=df_triple_wide_infront_raw[(df_triple_wide_infront_raw['Offset'] > offset_min_2)]['MidPtX'], y=df_triple_wide_infront_raw[(df_triple_wide_infront_raw['Offset'] > offset_min_2)]['Offset'], fit_reg=False, label='min offset: '+str(offset_min_2))\n",
    "sns.regplot(x=df_triple_wide_infront_raw[(df_triple_wide_infront_raw['Offset'] > offset_min_3)]['MidPtX'], y=df_triple_wide_infront_raw[(df_triple_wide_infront_raw['Offset'] > offset_min_3)]['Offset'], fit_reg=False, label='min offset: '+str(offset_min_3))\n",
    "sns.regplot(x=df_triple_wide_infront_raw[(df_triple_wide_infront_raw['Offset'] > offset_min_4)]['MidPtX'], y=df_triple_wide_infront_raw[(df_triple_wide_infront_raw['Offset'] > offset_min_4)]['Offset'], fit_reg=False, label='min offset: '+str(offset_min_4))\n",
    "plt.legend()\n",
    "plt.title('Triple Wide Sources in Front')\n",
    "plt.ylim(0, 250)"
   ]
  },
  {
   "cell_type": "code",
   "execution_count": null,
   "metadata": {},
   "outputs": [],
   "source": [
    "plt.figure(figsize=(16, 12))\n",
    "sns.regplot(x=df_dual_wide_ontop_raw.MidPtX, y=df_dual_wide_ontop_raw.Offset, fit_reg=False, label='All')\n",
    "sns.regplot(x=df_dual_wide_ontop_raw[(df_dual_wide_ontop_raw['Offset'] > offset_min_1)]['MidPtX'], y=df_dual_wide_ontop_raw[(df_dual_wide_ontop_raw['Offset'] > offset_min_1)]['Offset'], fit_reg=False, label='min offset: '+str(offset_min_1))\n",
    "sns.regplot(x=df_dual_wide_ontop_raw[(df_dual_wide_ontop_raw['Offset'] > offset_min_2)]['MidPtX'], y=df_dual_wide_ontop_raw[(df_dual_wide_ontop_raw['Offset'] > offset_min_2)]['Offset'], fit_reg=False, label='min offset: '+str(offset_min_2))\n",
    "sns.regplot(x=df_dual_wide_ontop_raw[(df_dual_wide_ontop_raw['Offset'] > offset_min_3)]['MidPtX'], y=df_dual_wide_ontop_raw[(df_dual_wide_ontop_raw['Offset'] > offset_min_3)]['Offset'], fit_reg=False, label='min offset: '+str(offset_min_3))\n",
    "sns.regplot(x=df_dual_wide_ontop_raw[(df_dual_wide_ontop_raw['Offset'] > offset_min_4)]['MidPtX'], y=df_dual_wide_ontop_raw[(df_dual_wide_ontop_raw['Offset'] > offset_min_4)]['Offset'], fit_reg=False, label='min offset: '+str(offset_min_4))\n",
    "plt.legend()\n",
    "plt.title('Dual Wide Source on Top')\n",
    "plt.ylim(0, 250)"
   ]
  },
  {
   "cell_type": "code",
   "execution_count": null,
   "metadata": {
    "scrolled": false
   },
   "outputs": [],
   "source": [
    "plt.figure(figsize=(16, 12))\n",
    "plt.hist([df_dual_wide_ontop_raw.Offset, df_triple_wide_infront_U_raw.Offset], bins=20, range=(0, 1000), label=('Dual Wide on Top', 'Triple Wide in Front - U-Front'))\n",
    "#plt.hist(df_triple_wide_infront_raw.Offset, bins=10, range=(0, 500), alpha=0.6)\n",
    "plt.legend()\n",
    "plt.ylabel('Number of Traces')\n",
    "plt.xlabel('Offset')\n",
    "\n",
    "#sns.regplot(x=df_triple_wide_infront_raw[(df_triple_wide_infront_raw['Offset'] > offset_min_1)]['MidPtX'], y=df_triple_wide_infront_raw[(df_triple_wide_infront_raw['Offset'] > offset_min_1)]['Offset'], fit_reg=False)\n",
    "#sns.regplot(x=df_triple_wide_infront_raw[(df_triple_wide_infront_raw['Offset'] > offset_min_2)]['MidPtX'], y=df_triple_wide_infront_raw[(df_triple_wide_infront_raw['Offset'] > offset_min_2)]['Offset'], fit_reg=False)\n",
    "#sns.regplot(x=df_triple_wide_infront_raw[(df_triple_wide_infront_raw['Offset'] > offset_min_3)]['MidPtX'], y=df_triple_wide_infront_raw[(df_triple_wide_infront_raw['Offset'] > offset_min_3)]['Offset'], fit_reg=False)\n",
    "#sns.regplot(x=df_triple_wide_infront_raw[(df_triple_wide_infront_raw['Offset'] > offset_min_4)]['MidPtX'], y=df_triple_wide_infront_raw[(df_triple_wide_infront_raw['Offset'] > offset_min_4)]['Offset'], fit_reg=False)\n",
    "#plt.ylim(0, 500)\n",
    "plt.ylim(0, 200)"
   ]
  },
  {
   "cell_type": "code",
   "execution_count": null,
   "metadata": {},
   "outputs": [],
   "source": [
    "plt.figure(figsize=(16, 12))\n",
    "plt.hist([df_dual_wide_ontop_raw[(df_dual_wide_ontop_raw['Offset'] > offset_min_1)]['Offset'], df_triple_wide_infront_U_raw[(df_triple_wide_infront_U_raw['Offset'] > offset_min_0)]['Offset'] ], bins=20, range=(0, 1000), cumulative=False, label=('Dual Wide on Top', 'Triple Wide in Front - U-Front'))\n",
    "plt.legend()\n",
    "plt.ylabel('Number of Traces')\n",
    "plt.xlabel('Offset')\n",
    "plt.ylim(0, 200)"
   ]
  },
  {
   "cell_type": "code",
   "execution_count": null,
   "metadata": {
    "scrolled": false
   },
   "outputs": [],
   "source": [
    "plt.figure(figsize=(16, 12))\n",
    "plt.hist([df_dual_wide_ontop_raw.Offset, df_triple_wide_infront_U_raw.Offset, df_triple_wide_infront_raw.Offset], bins=20, range=(0, 1000), label=('Dual Wide on Top', 'Triple Wide in Front with U-front', 'Triple Wide in Front'), cumulative=False)\n",
    "#plt.hist(df_triple_wide_infront_raw.Offset, bins=10, range=(0, 500), alpha=0.6)\n",
    "plt.legend()\n",
    "plt.ylabel('Number of Traces')\n",
    "plt.xlabel('Offset')\n",
    "plt.ylim(0, 200)"
   ]
  },
  {
   "cell_type": "code",
   "execution_count": null,
   "metadata": {},
   "outputs": [],
   "source": []
  },
  {
   "cell_type": "code",
   "execution_count": null,
   "metadata": {},
   "outputs": [],
   "source": [
    "plt.figure(figsize=(16, 12))\n",
    "sns.regplot(x=df_dual_wide_ontop_raw.OffsetX, y=df_dual_wide_ontop_raw.OffsetY, fit_reg=False, label='All')\n",
    "sns.regplot(x=df_dual_wide_ontop_raw[(df_dual_wide_ontop_raw['Offset'] > offset_min_1)]['OffsetX'], y=df_dual_wide_ontop_raw[(df_dual_wide_ontop_raw['Offset'] > offset_min_1)]['OffsetY'], fit_reg=False, label='min offset: '+str(offset_min_1))\n",
    "sns.regplot(x=df_dual_wide_ontop_raw[(df_dual_wide_ontop_raw['Offset'] > offset_min_2)]['OffsetX'], y=df_dual_wide_ontop_raw[(df_dual_wide_ontop_raw['Offset'] > offset_min_2)]['OffsetY'], fit_reg=False, label='min offset: '+str(offset_min_2))\n",
    "sns.regplot(x=df_dual_wide_ontop_raw[(df_dual_wide_ontop_raw['Offset'] > offset_min_3)]['OffsetX'], y=df_dual_wide_ontop_raw[(df_dual_wide_ontop_raw['Offset'] > offset_min_3)]['OffsetY'], fit_reg=False, label='min offset: '+str(offset_min_3))\n",
    "sns.regplot(x=df_dual_wide_ontop_raw[(df_dual_wide_ontop_raw['Offset'] > offset_min_4)]['OffsetX'], y=df_dual_wide_ontop_raw[(df_dual_wide_ontop_raw['Offset'] > offset_min_4)]['OffsetY'], fit_reg=False, label='min offset: '+str(offset_min_4))\n",
    "plt.legend()\n",
    "plt.title('Dual Wide Sources on Top')\n",
    "plt.ylim(-250, 250)"
   ]
  },
  {
   "cell_type": "code",
   "execution_count": null,
   "metadata": {},
   "outputs": [],
   "source": []
  },
  {
   "cell_type": "code",
   "execution_count": null,
   "metadata": {},
   "outputs": [],
   "source": [
    "plt.figure(figsize=(16, 12))\n",
    "sns.regplot(x=df_triple_wide_infront_raw.OffsetX, y=df_triple_wide_infront_raw.OffsetY, fit_reg=False, label='All')\n",
    "sns.regplot(x=df_triple_wide_infront_raw[(df_triple_wide_infront_raw['Offset'] > offset_min_1)]['OffsetX'], y=df_triple_wide_infront_raw[(df_triple_wide_infront_raw['Offset'] > offset_min_1)]['OffsetY'], fit_reg=False, label='min offset: '+str(offset_min_1))\n",
    "sns.regplot(x=df_triple_wide_infront_raw[(df_triple_wide_infront_raw['Offset'] > offset_min_2)]['OffsetX'], y=df_triple_wide_infront_raw[(df_triple_wide_infront_raw['Offset'] > offset_min_2)]['OffsetY'], fit_reg=False, label='min offset: '+str(offset_min_2))\n",
    "sns.regplot(x=df_triple_wide_infront_raw[(df_triple_wide_infront_raw['Offset'] > offset_min_3)]['OffsetX'], y=df_triple_wide_infront_raw[(df_triple_wide_infront_raw['Offset'] > offset_min_3)]['OffsetY'], fit_reg=False, label='min offset: '+str(offset_min_3))\n",
    "sns.regplot(x=df_triple_wide_infront_raw[(df_triple_wide_infront_raw['Offset'] > offset_min_4)]['OffsetX'], y=df_triple_wide_infront_raw[(df_triple_wide_infront_raw['Offset'] > offset_min_4)]['OffsetY'], fit_reg=False, label='min offset: '+str(offset_min_4))\n",
    "plt.legend()\n",
    "plt.title('Triple Wide Sources in Front')\n",
    "plt.ylim(-250, 250)"
   ]
  },
  {
   "cell_type": "code",
   "execution_count": null,
   "metadata": {},
   "outputs": [],
   "source": [
    "#df_triple_wide_infront_raw"
   ]
  },
  {
   "cell_type": "code",
   "execution_count": null,
   "metadata": {},
   "outputs": [],
   "source": []
  },
  {
   "cell_type": "code",
   "execution_count": null,
   "metadata": {
    "scrolled": false
   },
   "outputs": [],
   "source": [
    "plt.figure(figsize=(16, 12))\n",
    "sns.regplot(x=df_triple_wide_infront_U_raw.OffsetX, y=df_triple_wide_infront_raw.OffsetY, fit_reg=False, label='All')\n",
    "sns.regplot(x=df_triple_wide_infront_U_raw[(df_triple_wide_infront_U_raw['Offset'] > offset_min_1)]['OffsetX'], y=df_triple_wide_infront_U_raw[(df_triple_wide_infront_U_raw['Offset'] > offset_min_1)]['OffsetY'], fit_reg=False, label='min offset: '+str(offset_min_1))\n",
    "sns.regplot(x=df_triple_wide_infront_U_raw[(df_triple_wide_infront_U_raw['Offset'] > offset_min_2)]['OffsetX'], y=df_triple_wide_infront_U_raw[(df_triple_wide_infront_U_raw['Offset'] > offset_min_2)]['OffsetY'], fit_reg=False, label='min offset: '+str(offset_min_2))\n",
    "sns.regplot(x=df_triple_wide_infront_U_raw[(df_triple_wide_infront_U_raw['Offset'] > offset_min_3)]['OffsetX'], y=df_triple_wide_infront_U_raw[(df_triple_wide_infront_U_raw['Offset'] > offset_min_3)]['OffsetY'], fit_reg=False, label='min offset: '+str(offset_min_3))\n",
    "sns.regplot(x=df_triple_wide_infront_U_raw[(df_triple_wide_infront_U_raw['Offset'] > offset_min_4)]['OffsetX'], y=df_triple_wide_infront_U_raw[(df_triple_wide_infront_U_raw['Offset'] > offset_min_4)]['OffsetY'], fit_reg=False, label='min offset: '+str(offset_min_4))\n",
    "plt.legend()\n",
    "plt.title('Triple Wide Sources in Front and U-Shaped Front')\n",
    "plt.ylim(-250, 250)"
   ]
  },
  {
   "cell_type": "code",
   "execution_count": null,
   "metadata": {
    "scrolled": false
   },
   "outputs": [],
   "source": [
    "sns.set_style(\"whitegrid\")\n",
    "plt.figure(figsize=(16, 12))\n",
    "sns.swarmplot(x='MidPtX', y='Offset', data=df_combined[(df_combined['Offset'] <= 1000) & (df_combined['Offset'] > offset_min_0) & (df_combined['Configuration'] != 'Triple Wide in Front')], hue='Configuration')\n",
    "plt.ylim(0, 600)\n",
    "plt.axhline(20, color='green', xmin=0.30, xmax=0.70, alpha=0.5, linestyle='--')\n",
    "plt.axhline(50, color='green', xmin=0.25, xmax=0.75, alpha=0.5, linestyle='--')\n",
    "plt.axhline(100, color='green', xmin=0.15, xmax=0.85, alpha=0.5, linestyle='--')\n",
    "plt.axhline(200, color='green', xmin=0, xmax=1, alpha=0.5, linestyle='--')\n",
    "plt.xticks(rotation=-45);"
   ]
  },
  {
   "cell_type": "code",
   "execution_count": null,
   "metadata": {},
   "outputs": [],
   "source": [
    "plt.figure(figsize=(16, 12))\n",
    "sns.countplot(x='MidPtX', data=df_combined[(df_combined['Offset'] <= 300) & (df_combined['Offset'] > 200) & (df_combined['MidPtX'] >= 19600) & (df_combined['MidPtX'] <= 20400)], hue='Configuration')\n",
    "#sns.countplot(x='MidPtX', data=df_combined, hue='Configuration')\n",
    "plt.xticks(rotation=-45);"
   ]
  },
  {
   "cell_type": "code",
   "execution_count": null,
   "metadata": {},
   "outputs": [],
   "source": []
  },
  {
   "cell_type": "code",
   "execution_count": null,
   "metadata": {
    "scrolled": false
   },
   "outputs": [],
   "source": [
    "sns.set_style(\"whitegrid\")\n",
    "plt.figure(figsize=(16, 12))\n",
    "sns.swarmplot(x='MidPtX', y='Offset', data=df_combined[(df_combined['Offset'] <= 1000) & (df_combined['Offset'] > offset_min_0)], hue='Configuration')\n",
    "plt.ylim(0, 1000)\n",
    "plt.xticks(rotation=-45);"
   ]
  },
  {
   "cell_type": "code",
   "execution_count": null,
   "metadata": {},
   "outputs": [],
   "source": [
    "df_combined_dual_reduced = df_combined[(df_combined['Offset'] <= 100) & (df_combined['Offset'] > 0) & (df_combined['Configuration'] == 'Dual Wide on Top')]"
   ]
  },
  {
   "cell_type": "code",
   "execution_count": null,
   "metadata": {},
   "outputs": [],
   "source": []
  },
  {
   "cell_type": "code",
   "execution_count": null,
   "metadata": {},
   "outputs": [],
   "source": []
  },
  {
   "cell_type": "code",
   "execution_count": null,
   "metadata": {},
   "outputs": [],
   "source": []
  },
  {
   "cell_type": "code",
   "execution_count": null,
   "metadata": {},
   "outputs": [],
   "source": [
    "triple_offset_1 = df_triple_wide_infront_raw[(df_triple_wide_infront_raw['Offset'] <= 100) & (df_triple_wide_infront_raw['Offset'] > 0)]['MidPtX'].tolist()\n",
    "triple_offset_2 = df_triple_wide_infront_raw[(df_triple_wide_infront_raw['Offset'] <= 200) & (df_triple_wide_infront_raw['Offset'] > 100)]['MidPtX'].tolist()"
   ]
  },
  {
   "cell_type": "code",
   "execution_count": null,
   "metadata": {},
   "outputs": [],
   "source": [
    "dual_offset_1 = df_dual_wide_ontop_raw[(df_dual_wide_ontop_raw['Offset'] <= 100) & (df_dual_wide_ontop_raw['Offset'] > 0)]['MidPtX'].tolist()\n",
    "dual_offset_2 = df_dual_wide_ontop_raw[(df_dual_wide_ontop_raw['Offset'] <= 200) & (df_dual_wide_ontop_raw['Offset'] > 100)]['MidPtX'].tolist()"
   ]
  },
  {
   "cell_type": "code",
   "execution_count": null,
   "metadata": {},
   "outputs": [],
   "source": [
    "#triple_offset_1"
   ]
  },
  {
   "cell_type": "code",
   "execution_count": null,
   "metadata": {},
   "outputs": [],
   "source": []
  },
  {
   "cell_type": "code",
   "execution_count": null,
   "metadata": {},
   "outputs": [],
   "source": [
    "def maxgap(list):\n",
    "    maxdifference = 0\n",
    "    for i in range(1, len(list)):\n",
    "        difference = abs(list[i] - list[i-1])\n",
    "        print(list[i], list[i-1], difference)\n",
    "        if (difference > maxdifference):\n",
    "            maxdifference = difference\n",
    "    return maxdifference"
   ]
  },
  {
   "cell_type": "code",
   "execution_count": null,
   "metadata": {},
   "outputs": [],
   "source": [
    "#print(maxgap(dual_offset_2))"
   ]
  },
  {
   "cell_type": "code",
   "execution_count": null,
   "metadata": {},
   "outputs": [],
   "source": [
    "#print(maxgap(triple_offset_1))"
   ]
  },
  {
   "cell_type": "code",
   "execution_count": null,
   "metadata": {},
   "outputs": [],
   "source": [
    "#print(maxgap(triple_offset_2))"
   ]
  },
  {
   "cell_type": "code",
   "execution_count": null,
   "metadata": {},
   "outputs": [],
   "source": [
    "#print(maxgap(dual_offset_1))"
   ]
  },
  {
   "cell_type": "code",
   "execution_count": null,
   "metadata": {},
   "outputs": [],
   "source": []
  },
  {
   "cell_type": "code",
   "execution_count": null,
   "metadata": {},
   "outputs": [],
   "source": [
    "#gap_dual"
   ]
  },
  {
   "cell_type": "code",
   "execution_count": null,
   "metadata": {},
   "outputs": [],
   "source": [
    "#cols = ['Offsetclass', 'MaxGap']\n",
    "#gap_dual = pd.DataFrame(columns=cols)\n",
    "#for n in range(1,5):\n",
    "#    print(n)\n",
    "#gap_dual_temp = pd.DataFrame([[n, maxgap(dual_offset_1)]], columns=cols)\n",
    "#gap_dual.append(gap_dual_temp, ignore_index=True)\n",
    "#gap_dual.append(gap_dual_temp, ignore_index=True)"
   ]
  },
  {
   "cell_type": "code",
   "execution_count": null,
   "metadata": {},
   "outputs": [],
   "source": [
    "#gap_dual_temp"
   ]
  },
  {
   "cell_type": "code",
   "execution_count": null,
   "metadata": {},
   "outputs": [],
   "source": [
    "df_dual_limit = df_dual_wide_ontop_raw[(df_dual_wide_ontop_raw['Offset'] <= 600)]\n",
    "df_triple_limit = df_triple_wide_infront_raw[(df_triple_wide_infront_raw['Offset'] <= 600)]\n",
    "df_triple_U_limit = df_triple_wide_infront_U_raw[(df_triple_wide_infront_U_raw['Offset'] <= 600)]"
   ]
  },
  {
   "cell_type": "code",
   "execution_count": null,
   "metadata": {},
   "outputs": [],
   "source": [
    "offset_breaks = range(0, 625, 25)"
   ]
  },
  {
   "cell_type": "code",
   "execution_count": null,
   "metadata": {},
   "outputs": [],
   "source": [
    "offset_breaks[-1]"
   ]
  },
  {
   "cell_type": "code",
   "execution_count": null,
   "metadata": {},
   "outputs": [],
   "source": [
    "offset_planes = pd.IntervalIndex.from_breaks(offset_breaks)"
   ]
  },
  {
   "cell_type": "code",
   "execution_count": null,
   "metadata": {},
   "outputs": [],
   "source": [
    "offset_planes"
   ]
  },
  {
   "cell_type": "code",
   "execution_count": null,
   "metadata": {},
   "outputs": [],
   "source": [
    "pd.cut(df_dual_limit['Offset'], offset_planes)"
   ]
  },
  {
   "cell_type": "code",
   "execution_count": null,
   "metadata": {},
   "outputs": [],
   "source": [
    "df_dual_limit['Offsetclass'] = pd.cut(df_dual_limit['Offset'], offset_planes)\n",
    "df_triple_limit['Offsetclass'] = pd.cut(df_triple_limit['Offset'], offset_planes)\n",
    "df_triple_U_limit['Offsetclass'] = pd.cut(df_triple_U_limit['Offset'], offset_planes)"
   ]
  },
  {
   "cell_type": "code",
   "execution_count": null,
   "metadata": {},
   "outputs": [],
   "source": [
    "df_dual_limit"
   ]
  },
  {
   "cell_type": "code",
   "execution_count": null,
   "metadata": {},
   "outputs": [],
   "source": [
    "df_triple_limit"
   ]
  },
  {
   "cell_type": "code",
   "execution_count": null,
   "metadata": {
    "scrolled": false
   },
   "outputs": [],
   "source": [
    "plt.figure(figsize=(16, 12))\n",
    "sns.countplot(x='Offsetclass', data=df_triple_limit)\n",
    "plt.xticks(rotation=-45);"
   ]
  },
  {
   "cell_type": "code",
   "execution_count": null,
   "metadata": {},
   "outputs": [],
   "source": [
    "df_dual_midptx_offset = df_dual_limit.groupby(['Offsetclass', 'MidPtX']).count().drop(['StrNo', 'RecNo', 'Offset', 'MidPtY', 'DipSrc', 'DipRec', 'AzSrc', 'OffsetY', 'OffsetX', 'Configuration'], axis=1).rename(columns={'ShotNo': 'Count'})"
   ]
  },
  {
   "cell_type": "code",
   "execution_count": null,
   "metadata": {},
   "outputs": [],
   "source": [
    "df_triple_midptx_offset = df_triple_limit.groupby(['Offsetclass', 'MidPtX']).count().drop(['StrNo', 'RecNo', 'Offset', 'MidPtY', 'DipSrc', 'DipRec', 'AzSrc', 'OffsetY', 'OffsetX', 'Configuration'], axis=1).rename(columns={'ShotNo': 'Count'})"
   ]
  },
  {
   "cell_type": "code",
   "execution_count": null,
   "metadata": {},
   "outputs": [],
   "source": [
    "df_triple_U_midptx_offset = df_triple_U_limit.groupby(['Offsetclass', 'MidPtX']).count().drop(['StrNo', 'RecNo', 'Offset', 'MidPtY', 'DipSrc', 'DipRec', 'AzSrc', 'OffsetY', 'OffsetX', 'Configuration'], axis=1).rename(columns={'ShotNo': 'Count'})"
   ]
  },
  {
   "cell_type": "code",
   "execution_count": null,
   "metadata": {
    "scrolled": true
   },
   "outputs": [],
   "source": [
    "df_dual_offset_count = df_dual_midptx_offset.reset_index()\n",
    "df_triple_offset_count = df_triple_midptx_offset.reset_index()\n",
    "df_triple_U_offset_count = df_triple_U_midptx_offset.reset_index()\n",
    "\n",
    "#df_triple_offset_count = df_triple_midptx_offset.dropna().reset_index()"
   ]
  },
  {
   "cell_type": "code",
   "execution_count": null,
   "metadata": {},
   "outputs": [],
   "source": [
    "df_dual_offset_count_pivot = df_dual_offset_count.pivot('Offsetclass', 'MidPtX', 'Count')\n",
    "df_triple_offset_count_pivot = df_triple_offset_count.pivot('Offsetclass', 'MidPtX', 'Count')\n",
    "df_triple_U_offset_count_pivot = df_triple_U_offset_count.pivot('Offsetclass', 'MidPtX', 'Count')"
   ]
  },
  {
   "cell_type": "code",
   "execution_count": null,
   "metadata": {},
   "outputs": [],
   "source": [
    "df_triple_offset_count_pivot"
   ]
  },
  {
   "cell_type": "code",
   "execution_count": null,
   "metadata": {
    "scrolled": true
   },
   "outputs": [],
   "source": [
    "plt.figure(figsize=(30, 12))\n",
    "sns.set_style('dark')\n",
    "pal = sns.color_palette('Reds')\n",
    "sns.heatmap(df_dual_offset_count_pivot, cmap=pal, vmin=1, vmax=18, linewidths=0.1)\n",
    "plt.title('Dual Source on Top');"
   ]
  },
  {
   "cell_type": "code",
   "execution_count": null,
   "metadata": {},
   "outputs": [],
   "source": [
    "plt.figure(figsize=(30, 12))\n",
    "pal = sns.color_palette('Reds')\n",
    "sns.heatmap(df_triple_offset_count_pivot, cmap=pal, vmin=1, vmax=18, linewidths=0.1)\n",
    "plt.title('Triple Source in Front');"
   ]
  },
  {
   "cell_type": "code",
   "execution_count": null,
   "metadata": {
    "scrolled": true
   },
   "outputs": [],
   "source": [
    "plt.figure(figsize=(30, 12))\n",
    "pal = sns.color_palette('Reds')\n",
    "sns.heatmap(df_triple_U_offset_count_pivot, cmap=pal, vmin=1, vmax=18, linewidth=0.1)\n",
    "plt.title('Triple Source in Front - U-shaped Front');"
   ]
  },
  {
   "cell_type": "code",
   "execution_count": null,
   "metadata": {},
   "outputs": [],
   "source": [
    "pd.isnull(df_triple_offset_count_pivot).apply(np.sum, axis=1)"
   ]
  },
  {
   "cell_type": "code",
   "execution_count": null,
   "metadata": {},
   "outputs": [],
   "source": [
    "def getMaxLength(arr): \n",
    "  \n",
    "    # intitialize count \n",
    "    count = 0 \n",
    "      \n",
    "    # initialize max \n",
    "    result = 0 \n",
    "  \n",
    "    for i in range(0, len(arr)): \n",
    "      \n",
    "        # Reset count when True is found \n",
    "        if arr[i]: \n",
    "            count = 0\n",
    "  \n",
    "        # If False is found, increment count \n",
    "        # and update result if count  \n",
    "        # becomes more. \n",
    "        else: \n",
    "              \n",
    "            # increase count \n",
    "            count+= 1 \n",
    "            result = max(result, count)  \n",
    "          \n",
    "    return result  "
   ]
  },
  {
   "cell_type": "code",
   "execution_count": null,
   "metadata": {},
   "outputs": [],
   "source": [
    "getMaxLength([True, True, False, True, False])"
   ]
  },
  {
   "cell_type": "code",
   "execution_count": null,
   "metadata": {},
   "outputs": [],
   "source": []
  },
  {
   "cell_type": "code",
   "execution_count": null,
   "metadata": {},
   "outputs": [],
   "source": [
    "count_dual_offset = pd.notnull(df_dual_offset_count_pivot).reset_index().apply(lambda row: getMaxLength(row), axis=1)\n",
    "count_triple_offset = pd.notnull(df_triple_offset_count_pivot).reset_index().apply(lambda row: getMaxLength(row), axis=1)\n",
    "count_triple_U_offset = pd.notnull(df_triple_U_offset_count_pivot).reset_index().apply(lambda row: getMaxLength(row), axis=1)"
   ]
  },
  {
   "cell_type": "code",
   "execution_count": null,
   "metadata": {},
   "outputs": [],
   "source": [
    "len(count_dual_offset)"
   ]
  },
  {
   "cell_type": "code",
   "execution_count": null,
   "metadata": {},
   "outputs": [],
   "source": [
    "plt.figure(figsize=(16, 12))\n",
    "sns.set_style('whitegrid')\n",
    "plt.plot(count_dual_offset, label='Dual on Top')\n",
    "plt.plot(count_triple_offset, label='Triple in Front')\n",
    "plt.plot(count_triple_U_offset, label='Triple U-shape')\n",
    "plt.legend()\n",
    "plt.xlabel('Offset Class (25m increment)')\n",
    "plt.ylabel('Number consecutive empty xline bins')\n",
    "plt.title('Number of Empty x-line bins afo Offset Class')\n",
    "plt.ylim(0, 25)"
   ]
  },
  {
   "cell_type": "code",
   "execution_count": null,
   "metadata": {},
   "outputs": [],
   "source": [
    "np.shape(count_dual_offset)"
   ]
  },
  {
   "cell_type": "code",
   "execution_count": null,
   "metadata": {},
   "outputs": [],
   "source": [
    "df_count_dual_offset = pd.DataFrame(data=count_dual_offset, columns=['Empty Bins'])\n",
    "df_count_triple_offset = pd.DataFrame(data=count_triple_offset, columns=['Empty Bins'])\n",
    "df_count_triple_U_offset = pd.DataFrame(data=count_triple_U_offset, columns=['Empty Bins'])"
   ]
  },
  {
   "cell_type": "code",
   "execution_count": null,
   "metadata": {},
   "outputs": [],
   "source": [
    "len(df_count_dual_offset)"
   ]
  },
  {
   "cell_type": "code",
   "execution_count": null,
   "metadata": {},
   "outputs": [],
   "source": [
    "len(offset_planes)"
   ]
  },
  {
   "cell_type": "code",
   "execution_count": null,
   "metadata": {},
   "outputs": [],
   "source": [
    "df_count_dual_offset['Offset Class'] = offset_planes\n",
    "df_count_triple_offset['Offset Class'] = offset_planes\n",
    "df_count_triple_U_offset['Offset Class'] = offset_planes"
   ]
  },
  {
   "cell_type": "code",
   "execution_count": null,
   "metadata": {},
   "outputs": [],
   "source": [
    "dual_bin_size = 18.75\n",
    "triple_bin_size = 12.5"
   ]
  },
  {
   "cell_type": "code",
   "execution_count": null,
   "metadata": {},
   "outputs": [],
   "source": [
    "count_dual_offset_m = count_dual_offset*dual_bin_size + dual_bin_size\n",
    "count_triple_offset_m = count_triple_offset*triple_bin_size + triple_bin_size\n",
    "count_triple_U_offset_m = count_triple_U_offset*triple_bin_size + triple_bin_size"
   ]
  },
  {
   "cell_type": "code",
   "execution_count": null,
   "metadata": {},
   "outputs": [],
   "source": [
    "plt.figure(figsize=(16, 12))\n",
    "plt.plot(count_dual_offset_m, label='Dual on Top')\n",
    "plt.plot(count_triple_offset_m, label='Triple in Front')\n",
    "plt.plot(count_triple_U_offset_m, label='Triple U-shape')\n",
    "plt.legend()\n",
    "plt.xlabel('Offset Class (25m increment)')\n",
    "plt.ylabel('X-line range of consecutive empty bins [m]')\n",
    "plt.title('Empty x-line Range afo Offset Class')\n",
    "plt.ylim(0, 500)"
   ]
  },
  {
   "cell_type": "code",
   "execution_count": null,
   "metadata": {},
   "outputs": [],
   "source": [
    "df_count_dual_offset['Empty Range'] = df_count_dual_offset['Empty Bins']*dual_bin_size + dual_bin_size\n",
    "df_count_triple_offset['Empty Range'] = df_count_triple_offset['Empty Bins']*triple_bin_size + triple_bin_size\n",
    "df_count_triple_U_offset['Empty Range'] = df_count_triple_U_offset['Empty Bins']*triple_bin_size + triple_bin_size"
   ]
  },
  {
   "cell_type": "code",
   "execution_count": null,
   "metadata": {},
   "outputs": [],
   "source": [
    "df_count_dual_offset['Config'] = 'Dual Source on Top'\n",
    "df_count_triple_offset['Config'] = 'Triple Source in Front'\n",
    "df_count_triple_U_offset['Config'] = 'Triple Source U-shaped front'"
   ]
  },
  {
   "cell_type": "code",
   "execution_count": null,
   "metadata": {},
   "outputs": [],
   "source": [
    "df_count_all = pd.concat([df_count_dual_offset, df_count_triple_offset, df_count_triple_U_offset])"
   ]
  },
  {
   "cell_type": "code",
   "execution_count": null,
   "metadata": {},
   "outputs": [],
   "source": [
    "sns.set_style('darkgrid')\n",
    "plt.figure(figsize=(16, 12))\n",
    "sns.barplot(x='Offset Class', y='Empty Bins', data=df_count_all, hue='Config')\n",
    "plt.ylim(0, 25)\n",
    "plt.xticks(rotation=-45);"
   ]
  },
  {
   "cell_type": "code",
   "execution_count": null,
   "metadata": {},
   "outputs": [],
   "source": [
    "plt.figure(figsize=(16, 12))\n",
    "sns.barplot(x='Offset Class', y='Empty Range', data=df_count_all, hue='Config')\n",
    "plt.ylim(0, 500)\n",
    "plt.xticks(rotation=-45);"
   ]
  },
  {
   "cell_type": "code",
   "execution_count": null,
   "metadata": {},
   "outputs": [],
   "source": []
  },
  {
   "cell_type": "code",
   "execution_count": null,
   "metadata": {},
   "outputs": [],
   "source": []
  },
  {
   "cell_type": "code",
   "execution_count": null,
   "metadata": {},
   "outputs": [],
   "source": []
  },
  {
   "cell_type": "code",
   "execution_count": null,
   "metadata": {},
   "outputs": [],
   "source": []
  },
  {
   "cell_type": "code",
   "execution_count": null,
   "metadata": {},
   "outputs": [],
   "source": []
  }
 ],
 "metadata": {
  "kernelspec": {
   "display_name": "Python 3",
   "language": "python",
   "name": "python3"
  },
  "language_info": {
   "codemirror_mode": {
    "name": "ipython",
    "version": 3
   },
   "file_extension": ".py",
   "mimetype": "text/x-python",
   "name": "python",
   "nbconvert_exporter": "python",
   "pygments_lexer": "ipython3",
   "version": "3.6.7"
  }
 },
 "nbformat": 4,
 "nbformat_minor": 2
}
